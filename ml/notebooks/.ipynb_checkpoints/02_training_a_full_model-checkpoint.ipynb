{
 "cells": [
  {
   "cell_type": "code",
   "execution_count": 1,
   "id": "4560f333",
   "metadata": {},
   "outputs": [],
   "source": [
    "import pandas as pd\n",
    "import numpy as np\n",
    "import os\n",
    "import tsfresh\n",
    "from sklearn.model_selection import train_test_split\n",
    "from sklearn.ensemble import RandomForestClassifier\n",
    "from sklearn.metrics import classification_report\n",
    "import tensorflow as tf\n",
    "\n",
    "import os\n",
    "\n",
    "import matplotlib.pyplot as plt\n",
    "\n",
    "# keras goodies\n",
    "from tensorflow.keras.models import Sequential\n",
    "from tensorflow.keras.layers import Dense, Activation, Flatten, Conv1D, Dropout, MaxPooling1D, BatchNormalization\n",
    "from tensorflow.keras import optimizers\n",
    "from tensorflow.keras import regularizers\n",
    "from tensorflow.keras import metrics as kmetrics\n",
    "import tensorflow.keras.backend as K"
   ]
  },
  {
   "cell_type": "markdown",
   "id": "f8f0e2ca",
   "metadata": {},
   "source": [
    "## Getting the data"
   ]
  },
  {
   "cell_type": "code",
   "execution_count": 2,
   "id": "355a2799",
   "metadata": {},
   "outputs": [],
   "source": [
    "data_path = '../data/'"
   ]
  },
  {
   "cell_type": "code",
   "execution_count": 3,
   "id": "a08589ff",
   "metadata": {},
   "outputs": [],
   "source": [
    "final_sliding_windows = pd.read_csv(data_path + '/sliding_windows_smallest20_size20_step20.csv')"
   ]
  },
  {
   "cell_type": "code",
   "execution_count": 4,
   "id": "3a4935ff",
   "metadata": {},
   "outputs": [
    {
     "data": {
      "image/png": "[encoded data removed]",
      "text/plain": [
       "<Figure size 432x288 with 1 Axes>"
      ]
     },
     "metadata": {
      "needs_background": "light"
     },
     "output_type": "display_data"
    }
   ],
   "source": [
    "def plot_by_id(df, i): \n",
    "    plot_recording = df[df['recording_id'] == i]\n",
    "    plot_recording = plot_recording.reset_index()\n",
    "    plt.plot(plot_recording.index, plot_recording['accel_x'])\n",
    "    plt.plot(plot_recording.index, plot_recording['accel_y'])\n",
    "    plt.plot(plot_recording.index, plot_recording['accel_z'])\n",
    "    \n",
    "plot_by_id(final_sliding_windows, 'Respeck_s1865457_Falling on the back_30-09-2021_11-53-32')"
   ]
  },
  {
   "cell_type": "markdown",
   "id": "20b1ef0d",
   "metadata": {},
   "source": [
    "## Split into training and test sets\n",
    "\n",
    "Make sure to split by subject!"
   ]
  },
  {
   "cell_type": "code",
   "execution_count": 5,
   "id": "473d2fb2",
   "metadata": {},
   "outputs": [],
   "source": [
    "columns_of_interest = ['accel_x', 'accel_y', 'accel_z', 'gyro_x', 'gyro_y', 'gyro_z']"
   ]
  },
  {
   "cell_type": "code",
   "execution_count": 6,
   "id": "b085f81b",
   "metadata": {},
   "outputs": [],
   "source": [
    "# Simple for now\n",
    "subjects = final_sliding_windows['subject_id'].unique()\n",
    "\n",
    "train_subjects, test_subjects = train_test_split(subjects, test_size=0.2, train_size=0.8)\n",
    "\n",
    "X_train_full = final_sliding_windows[final_sliding_windows['subject_id'].isin(train_subjects)][['window_id'] + columns_of_interest]\n",
    "y_train_full = final_sliding_windows[final_sliding_windows['subject_id'].isin(train_subjects)][['window_id'] + ['activity_type']]\n",
    "\n",
    "X_test_full = final_sliding_windows[final_sliding_windows['subject_id'].isin(test_subjects)][['window_id'] + columns_of_interest]\n",
    "y_test_full = final_sliding_windows[final_sliding_windows['subject_id'].isin(test_subjects)][['window_id'] + ['activity_type']]\n"
   ]
  },
  {
   "cell_type": "markdown",
   "id": "f96f4fb0",
   "metadata": {},
   "source": [
    "## Format the input"
   ]
  },
  {
   "cell_type": "markdown",
   "id": "fbaae606",
   "metadata": {},
   "source": [
    "Format data into windows - make (50,6) inputs"
   ]
  },
  {
   "cell_type": "code",
   "execution_count": 7,
   "id": "c6fbc52b",
   "metadata": {},
   "outputs": [],
   "source": [
    "class_labels = {\n",
    "    'Sitting': 0,\n",
    "    'Sitting bent forward': 1,\n",
    "    'Sitting bent backward': 2,\n",
    "    'Standing': 3,\n",
    "    'Lying down left': 4,\n",
    "    'Lying down right': 5,\n",
    "    'Lying down on stomach': 6,\n",
    "    'Lying down on back': 7,\n",
    "    'Walking at normal speed': 8,\n",
    "    'Running': 9,\n",
    "    'Climbing stairs': 10,\n",
    "    'Descending stairs': 11,\n",
    "    'Desk work': 12,\n",
    "    'Movement': 13,\n",
    "    'Falling on knees': 14,\n",
    "    'Falling on the back': 15,\n",
    "    'Falling on the left': 16,\n",
    "    'Falling on the right': 17\n",
    "}"
   ]
  },
  {
   "cell_type": "code",
   "execution_count": 8,
   "id": "b31b39f7",
   "metadata": {},
   "outputs": [],
   "source": [
    "class_labels = {\n",
    "    'Standing': 0,\n",
    "    'Walking at normal speed': 1\n",
    "}"
   ]
  },
  {
   "cell_type": "code",
   "execution_count": 8,
   "id": "ee78afe6",
   "metadata": {},
   "outputs": [],
   "source": [
    "# Keep only the classes of interest\n",
    "X_train_full = X_train_full[y_train_full['activity_type'].isin(class_labels.keys())]\n",
    "X_test_full = X_test_full[y_test_full['activity_type'].isin(class_labels.keys())]\n",
    "y_train_full = y_train_full[y_train_full['activity_type'].isin(class_labels.keys())]\n",
    "y_test_full = y_test_full[y_test_full['activity_type'].isin(class_labels.keys())]\n",
    "\n",
    "# Create the y ones\n",
    "y_train = y_train_full.groupby(\"window_id\")[['activity_type']].agg(np.min).replace(class_labels)['activity_type'].values\n",
    "y_test = y_test_full.groupby(\"window_id\")[['activity_type']].agg(np.min).replace(class_labels)['activity_type'].values\n",
    "\n",
    "y_train = np.asarray(pd.get_dummies(y_train), dtype=np.float32)\n",
    "y_test = np.asarray(pd.get_dummies(y_test), dtype=np.float32)"
   ]
  },
  {
   "cell_type": "code",
   "execution_count": 9,
   "id": "ee97a887",
   "metadata": {},
   "outputs": [],
   "source": [
    "X_train = []\n",
    "X_test = []\n",
    "    \n",
    "for window_id, group in X_train_full.groupby('window_id'):\n",
    "    #print(f\"window_id = {window_id}\")\n",
    "    \n",
    "    shape = group[columns_of_interest].values.shape\n",
    "    #print(f\"shape = {shape}\")\n",
    "    if shape == (20,6):\n",
    "        X_train.append(group[columns_of_interest].values)\n",
    "    \n",
    "for window_id, group in X_test_full.groupby('window_id'):\n",
    "    #print(f\"window_id = {window_id}\")\n",
    "    \n",
    "    shape = group[columns_of_interest].values.shape\n",
    "    #print(f\"shape = {shape}\")\n",
    "    \n",
    "    X_test.append(group[columns_of_interest].values)\n",
    "    \n",
    "X_train = np.asarray(X_train)#, dtype=object)\n",
    "X_test = np.asarray(X_test)#, dtype=object)"
   ]
  },
  {
   "cell_type": "code",
   "execution_count": 10,
   "id": "5011743d",
   "metadata": {},
   "outputs": [
    {
     "data": {
      "text/plain": [
       "(23340, 20, 6)"
      ]
     },
     "execution_count": 10,
     "metadata": {},
     "output_type": "execute_result"
    }
   ],
   "source": [
    "np.shape(np.asarray(X_train, dtype=object))"
   ]
  },
  {
   "cell_type": "code",
   "execution_count": 11,
   "id": "e96ed899",
   "metadata": {},
   "outputs": [
    {
     "name": "stdout",
     "output_type": "stream",
     "text": [
      "(23340, 20, 6)\n",
      "(6569, 20, 6)\n",
      "(23340, 18)\n",
      "(6569, 18)\n"
     ]
    }
   ],
   "source": [
    "print(np.shape(X_train))\n",
    "print(np.shape(X_test))\n",
    "\n",
    "print(np.shape(y_train))\n",
    "print(np.shape(y_test))"
   ]
  },
  {
   "cell_type": "markdown",
   "id": "d40a9bf3",
   "metadata": {},
   "source": [
    "## Prepping the model"
   ]
  },
  {
   "cell_type": "code",
   "execution_count": 13,
   "id": "8eefa967",
   "metadata": {},
   "outputs": [],
   "source": [
    "filters = 64\n",
    "kernel_size = 3\n",
    "n_features = 6\n",
    "activation ='relu'\n",
    "n_classes = len(class_labels)\n",
    "window_size = 20"
   ]
  },
  {
   "cell_type": "code",
   "execution_count": 14,
   "id": "312a21a3",
   "metadata": {},
   "outputs": [
    {
     "name": "stdout",
     "output_type": "stream",
     "text": [
      "Model: \"sequential\"\n",
      "_________________________________________________________________\n",
      "Layer (type)                 Output Shape              Param #   \n",
      "=================================================================\n",
      "conv1d (Conv1D)              (None, 18, 64)            1216      \n",
      "_________________________________________________________________\n",
      "batch_normalization (BatchNo (None, 18, 64)            256       \n",
      "_________________________________________________________________\n",
      "activation (Activation)      (None, 18, 64)            0         \n",
      "_________________________________________________________________\n",
      "conv1d_1 (Conv1D)            (None, 16, 64)            12352     \n",
      "_________________________________________________________________\n",
      "batch_normalization_1 (Batch (None, 16, 64)            256       \n",
      "_________________________________________________________________\n",
      "activation_1 (Activation)    (None, 16, 64)            0         \n",
      "_________________________________________________________________\n",
      "conv1d_2 (Conv1D)            (None, 14, 64)            12352     \n",
      "_________________________________________________________________\n",
      "batch_normalization_2 (Batch (None, 14, 64)            256       \n",
      "_________________________________________________________________\n",
      "activation_2 (Activation)    (None, 14, 64)            0         \n",
      "_________________________________________________________________\n",
      "flatten (Flatten)            (None, 896)               0         \n",
      "_________________________________________________________________\n",
      "dense (Dense)                (None, 100)               89700     \n",
      "_________________________________________________________________\n",
      "dense_1 (Dense)              (None, 2)                 202       \n",
      "=================================================================\n",
      "Total params: 116,590\n",
      "Trainable params: 116,206\n",
      "Non-trainable params: 384\n",
      "_________________________________________________________________\n"
     ]
    }
   ],
   "source": [
    "model = Sequential()\n",
    "\n",
    "model.add(Conv1D(filters=filters, kernel_size=kernel_size, activation='linear', \n",
    "                 input_shape=(window_size, n_features)))\n",
    "model.add(BatchNormalization())\n",
    "model.add(Activation(activation))\n",
    "\n",
    "model.add(Conv1D(filters=filters, kernel_size=kernel_size, activation='linear'))\n",
    "model.add(BatchNormalization())\n",
    "model.add(Activation(activation))\n",
    "\n",
    "model.add(Conv1D(filters=filters, kernel_size=kernel_size, activation='linear'))\n",
    "model.add(BatchNormalization())\n",
    "model.add(Activation(activation))\n",
    "\n",
    "model.add(Flatten())\n",
    "model.add(Dense(100, activation='relu'))\n",
    "model.add(Dense(n_classes, activation='softmax'))\n",
    "\n",
    "model.summary()"
   ]
  },
  {
   "cell_type": "markdown",
   "id": "2040a9bc",
   "metadata": {},
   "source": [
    "## Training the model"
   ]
  },
  {
   "cell_type": "code",
   "execution_count": 15,
   "id": "94b4e83c",
   "metadata": {},
   "outputs": [],
   "source": [
    "model.compile(\n",
    "    optimizer=optimizers.SGD(lr=0.001),\n",
    "    loss='binary_crossentropy',\n",
    "    metrics = ['accuracy'])"
   ]
  },
  {
   "cell_type": "code",
   "execution_count": 16,
   "id": "583edb5a",
   "metadata": {},
   "outputs": [
    {
     "name": "stdout",
     "output_type": "stream",
     "text": [
      "Train on 2680 samples\n",
      "Epoch 1/10\n",
      "2680/2680 [==============================] - 6s 2ms/sample - loss: 0.5198 - accuracy: 0.7235\n",
      "Epoch 2/10\n",
      "2680/2680 [==============================] - 5s 2ms/sample - loss: 0.4121 - accuracy: 0.7828\n",
      "Epoch 3/10\n",
      "2680/2680 [==============================] - 6s 2ms/sample - loss: 0.3785 - accuracy: 0.8082\n",
      "Epoch 4/10\n",
      "2680/2680 [==============================] - 5s 2ms/sample - loss: 0.3480 - accuracy: 0.8377\n",
      "Epoch 5/10\n",
      "2680/2680 [==============================] - 5s 2ms/sample - loss: 0.3001 - accuracy: 0.86490s - loss: 0.3008 - ac - ETA: 0s - loss: 0.3035 - accuracy: \n",
      "Epoch 6/10\n",
      "2680/2680 [==============================] - 6s 2ms/sample - loss: 0.2814 - accuracy: 0.8694\n",
      "Epoch 7/10\n",
      "2680/2680 [==============================] - 7s 3ms/sample - loss: 0.2282 - accuracy: 0.9071\n",
      "Epoch 8/10\n",
      "2680/2680 [==============================] - 5s 2ms/sample - loss: 0.2319 - accuracy: 0.9045\n",
      "Epoch 9/10\n",
      "2680/2680 [==============================] - 6s 2ms/sample - loss: 0.2063 - accuracy: 0.9198\n",
      "Epoch 10/10\n",
      "2680/2680 [==============================] - 4s 2ms/sample - loss: 0.1796 - accuracy: 0.9295\n"
     ]
    },
    {
     "data": {
      "text/plain": [
       "<tensorflow.python.keras.callbacks.History at 0x21a87952c08>"
      ]
     },
     "execution_count": 16,
     "metadata": {},
     "output_type": "execute_result"
    }
   ],
   "source": [
    "model.fit(X_train, y_train, batch_size=2, epochs=10)"
   ]
  },
  {
   "cell_type": "markdown",
   "id": "a0e2f266",
   "metadata": {},
   "source": [
    "## Testing the model"
   ]
  },
  {
   "cell_type": "code",
   "execution_count": 18,
   "id": "7d59e744",
   "metadata": {},
   "outputs": [],
   "source": [
    "# stats\n",
    "y_pred_ohe = model.predict(X_test)\n",
    "y_pred_labels = np.argmax(y_pred_ohe, axis=1)\n",
    "y_true_labels = np.argmax(y_test, axis=1)"
   ]
  },
  {
   "cell_type": "code",
   "execution_count": 19,
   "id": "54d07144",
   "metadata": {},
   "outputs": [
    {
     "data": {
      "text/plain": [
       "array([9.990144e-01, 9.856062e-04], dtype=float32)"
      ]
     },
     "execution_count": 19,
     "metadata": {},
     "output_type": "execute_result"
    }
   ],
   "source": [
    "y_pred_ohe[0]"
   ]
  },
  {
   "cell_type": "code",
   "execution_count": 20,
   "id": "7dc4f54f",
   "metadata": {},
   "outputs": [
    {
     "name": "stdout",
     "output_type": "stream",
     "text": [
      "********************************************************************************\n",
      "Classification report\n",
      "********************************************************************************\n",
      "              precision    recall  f1-score   support\n",
      "\n",
      "           0       0.90      1.00      0.95       375\n",
      "           1       1.00      0.89      0.94       377\n",
      "\n",
      "    accuracy                           0.95       752\n",
      "   macro avg       0.95      0.95      0.95       752\n",
      "weighted avg       0.95      0.95      0.95       752\n",
      "\n"
     ]
    }
   ],
   "source": [
    "print(\"*\" * 80)\n",
    "print(\"Classification report\")\n",
    "print(\"*\" * 80)\n",
    "print(classification_report(y_true_labels, y_pred_labels))"
   ]
  },
  {
   "cell_type": "markdown",
   "id": "c17abf43",
   "metadata": {},
   "source": [
    "### Save a test intance"
   ]
  },
  {
   "cell_type": "code",
   "execution_count": 33,
   "id": "2e22af1f",
   "metadata": {},
   "outputs": [],
   "source": [
    "for i in range(5):\n",
    "    np.savetxt('data/test_instance' + str(i) + '.txt', X_test[i])"
   ]
  },
  {
   "cell_type": "code",
   "execution_count": 34,
   "id": "4e3e8a50",
   "metadata": {},
   "outputs": [
    {
     "name": "stdout",
     "output_type": "stream",
     "text": [
      "[0. 1.]\n",
      "[0. 1.]\n",
      "[0. 1.]\n",
      "[0. 1.]\n",
      "[0. 1.]\n"
     ]
    }
   ],
   "source": [
    "for i in np.arange(15,20):\n",
    "    print(y_test[i])\n",
    "    np.savetxt('data/test_instance' + str(i) + '.txt', X_test[i])"
   ]
  },
  {
   "cell_type": "markdown",
   "id": "06e32c61",
   "metadata": {},
   "source": [
    "## Save to file and convert to tflite"
   ]
  },
  {
   "cell_type": "code",
   "execution_count": 25,
   "id": "6296f1d0",
   "metadata": {},
   "outputs": [
    {
     "name": "stdout",
     "output_type": "stream",
     "text": [
      "WARNING:tensorflow:From C:\\Users\\Gwenyth\\miniconda3\\envs\\pdiot\\lib\\site-packages\\tensorflow_core\\python\\ops\\resource_variable_ops.py:1781: calling BaseResourceVariable.__init__ (from tensorflow.python.ops.resource_variable_ops) with constraint is deprecated and will be removed in a future version.\n",
      "Instructions for updating:\n",
      "If using Keras pass *_constraint arguments to layers.\n",
      "INFO:tensorflow:Assets written to: models\\cnn_walking_standing\\assets\n"
     ]
    },
    {
     "data": {
      "text/plain": [
       "1234796"
      ]
     },
     "execution_count": 25,
     "metadata": {},
     "output_type": "execute_result"
    }
   ],
   "source": [
    "# Saving the model to file\n",
    "model_name = 'cnn_lyingback_running'\n",
    "\n",
    "export_dir = 'models\\' + model_name\n",
    "tf.saved_model.save(model,export_dir)\n",
    "\n",
    "# Convert the saved tensorflow model to tensorflow lite\n",
    "converter = tf.lite.TFLiteConverter.from_saved_model(export_dir)\n",
    "tflite_model = converter.convert()\n",
    "\n",
    "# Save the tensorflow lite model to file\n",
    "import pathlib\n",
    "tflite_model_file = pathlib.Path('models/' + model_name + '.tflite')\n",
    "tflite_model_file.write_bytes(tflite_model)"
   ]
  },
  {
   "cell_type": "code",
   "execution_count": null,
   "id": "05e36fa4",
   "metadata": {},
   "outputs": [],
   "source": []
  },
  {
   "cell_type": "code",
   "execution_count": null,
   "id": "2ae54ca5",
   "metadata": {},
   "outputs": [],
   "source": []
  },
  {
   "cell_type": "code",
   "execution_count": null,
   "id": "3f5cb93a",
   "metadata": {},
   "outputs": [],
   "source": []
  },
  {
   "cell_type": "code",
   "execution_count": null,
   "id": "4dbe7f01",
   "metadata": {},
   "outputs": [],
   "source": []
  },
  {
   "cell_type": "code",
   "execution_count": null,
   "id": "56a2bf66",
   "metadata": {},
   "outputs": [],
   "source": []
  },
  {
   "cell_type": "markdown",
   "id": "7a2cf844",
   "metadata": {},
   "source": [
    "## Testing Sonia's clips (ignore this) "
   ]
  },
  {
   "cell_type": "code",
   "execution_count": 49,
   "id": "8ecd127b",
   "metadata": {},
   "outputs": [
    {
     "name": "stdout",
     "output_type": "stream",
     "text": [
      "Sensor type: Respeck\n",
      "Activity type: Lying down on back\n",
      "Activity code: 2\n",
      "Subject id: s1704145\n",
      "Notes: test\n",
      "Sensor type: Respeck\n",
      "Activity type: Running\n",
      "Activity code: 11\n",
      "Subject id: s1704145\n",
      "Notes: test\n"
     ]
    }
   ],
   "source": [
    "sonia = pd.DataFrame()\n",
    "data_path = 'data/sonia_tests/'\n",
    "\n",
    "# Get a list of all respeck files in all the student folders\n",
    "sonia_files = []\n",
    "for f in os.listdir(data_path):\n",
    "    files = [data_path + '/' + f]\n",
    "    sonia_files += files\n",
    "        \n",
    "# Load them all into a df\n",
    "df_sonia_0 = pd.read_csv(sonia_files[0], header=header_size)\n",
    "df_sonia_0 = add_cols(sonia_files[0], df_sonia_0)\n",
    "df_sonia_1 = pd.read_csv(sonia_files[1], header=header_size)\n",
    "df_sonia_1 = add_cols(sonia_files[1], df_sonia_1)"
   ]
  },
  {
   "cell_type": "code",
   "execution_count": 40,
   "id": "e4170be3",
   "metadata": {},
   "outputs": [],
   "source": [
    "header_size = 5\n",
    "from typing import Tuple\n",
    "\n",
    "def extract_header_info(filename: str, header_size: int = 5) -> Tuple[str, str, int, str, str]:\n",
    "    \"\"\"\n",
    "    :param filename: Path to recording file.\n",
    "    :param header_size: The size of the header, defaults to 5.\n",
    "    :returns: A 5-tuple containing the sensor type, activity type, activity code, subject id and any notes.\n",
    "    \"\"\"\n",
    "    sensor_type = \"\"\n",
    "    activity_type = \"\"\n",
    "    activity_code = -1\n",
    "    subject_id = \"\"\n",
    "    notes = \"\"\n",
    "\n",
    "    with open(filename) as f:\n",
    "        head = [next(f).rstrip().split('# ')[1] for x in range(header_size)]\n",
    "        for l in head:\n",
    "            print(l)\n",
    "\n",
    "            title, value = l.split(\":\")\n",
    "\n",
    "            if title == \"Sensor type\":\n",
    "                sensor_type = value.strip()\n",
    "            elif title == \"Activity type\":\n",
    "                activity_type = value.strip()\n",
    "            elif title == \"Activity code\":\n",
    "                activity_code = int(value.strip())\n",
    "            elif title == \"Subject id\":\n",
    "                subject_id = value.strip()\n",
    "            elif title == \"Notes\":\n",
    "                notes = value.strip()\n",
    "    \n",
    "    return sensor_type, activity_type, activity_code, subject_id, notes"
   ]
  },
  {
   "cell_type": "code",
   "execution_count": 47,
   "id": "75f81197",
   "metadata": {},
   "outputs": [],
   "source": [
    "def add_cols(filename, df_respeck):\n",
    "    sensor_type, activity_type, activity_code, subject_id, notes = extract_header_info(filename)\n",
    "    df_respeck['sensor_type'] = sensor_type\n",
    "    df_respeck['activity_type'] = activity_type\n",
    "    df_respeck['activity_code'] = activity_code\n",
    "    df_respeck['subject_id'] = subject_id\n",
    "    df_respeck['notes'] = notes\n",
    "    return df_respeck"
   ]
  },
  {
   "cell_type": "code",
   "execution_count": 51,
   "id": "2ebb8e9c",
   "metadata": {},
   "outputs": [
    {
     "data": {
      "text/html": [
       "<div>\n",
       "<style scoped>\n",
       "    .dataframe tbody tr th:only-of-type {\n",
       "        vertical-align: middle;\n",
       "    }\n",
       "\n",
       "    .dataframe tbody tr th {\n",
       "        vertical-align: top;\n",
       "    }\n",
       "\n",
       "    .dataframe thead th {\n",
       "        text-align: right;\n",
       "    }\n",
       "</style>\n",
       "<table border=\"1\" class=\"dataframe\">\n",
       "  <thead>\n",
       "    <tr style=\"text-align: right;\">\n",
       "      <th></th>\n",
       "      <th>timestamp</th>\n",
       "      <th>accel_x</th>\n",
       "      <th>accel_y</th>\n",
       "      <th>accel_z</th>\n",
       "      <th>gyro_x</th>\n",
       "      <th>gyro_y</th>\n",
       "      <th>gyro_z</th>\n",
       "      <th>sensor_type</th>\n",
       "      <th>activity_type</th>\n",
       "      <th>activity_code</th>\n",
       "      <th>subject_id</th>\n",
       "      <th>notes</th>\n",
       "    </tr>\n",
       "  </thead>\n",
       "  <tbody>\n",
       "    <tr>\n",
       "      <th>0</th>\n",
       "      <td>1634656108567</td>\n",
       "      <td>-0.408203</td>\n",
       "      <td>-0.072815</td>\n",
       "      <td>1.030701</td>\n",
       "      <td>1.875000</td>\n",
       "      <td>-0.390625</td>\n",
       "      <td>0.265625</td>\n",
       "      <td>Respeck</td>\n",
       "      <td>Lying down on back</td>\n",
       "      <td>2</td>\n",
       "      <td>s1704145</td>\n",
       "      <td>test</td>\n",
       "    </tr>\n",
       "    <tr>\n",
       "      <th>1</th>\n",
       "      <td>1634656108613</td>\n",
       "      <td>-0.401855</td>\n",
       "      <td>-0.066467</td>\n",
       "      <td>1.018494</td>\n",
       "      <td>2.359375</td>\n",
       "      <td>-0.609375</td>\n",
       "      <td>0.343750</td>\n",
       "      <td>Respeck</td>\n",
       "      <td>Lying down on back</td>\n",
       "      <td>2</td>\n",
       "      <td>s1704145</td>\n",
       "      <td>test</td>\n",
       "    </tr>\n",
       "    <tr>\n",
       "      <th>2</th>\n",
       "      <td>1634656108660</td>\n",
       "      <td>-0.401855</td>\n",
       "      <td>-0.081116</td>\n",
       "      <td>1.023132</td>\n",
       "      <td>2.718750</td>\n",
       "      <td>-0.718750</td>\n",
       "      <td>0.156250</td>\n",
       "      <td>Respeck</td>\n",
       "      <td>Lying down on back</td>\n",
       "      <td>2</td>\n",
       "      <td>s1704145</td>\n",
       "      <td>test</td>\n",
       "    </tr>\n",
       "    <tr>\n",
       "      <th>3</th>\n",
       "      <td>1634656108678</td>\n",
       "      <td>-0.403076</td>\n",
       "      <td>-0.075500</td>\n",
       "      <td>1.020203</td>\n",
       "      <td>3.281250</td>\n",
       "      <td>-1.328125</td>\n",
       "      <td>-0.187500</td>\n",
       "      <td>Respeck</td>\n",
       "      <td>Lying down on back</td>\n",
       "      <td>2</td>\n",
       "      <td>s1704145</td>\n",
       "      <td>test</td>\n",
       "    </tr>\n",
       "    <tr>\n",
       "      <th>4</th>\n",
       "      <td>1634656108729</td>\n",
       "      <td>-0.400879</td>\n",
       "      <td>-0.077209</td>\n",
       "      <td>1.031433</td>\n",
       "      <td>3.546875</td>\n",
       "      <td>-1.281250</td>\n",
       "      <td>-0.109375</td>\n",
       "      <td>Respeck</td>\n",
       "      <td>Lying down on back</td>\n",
       "      <td>2</td>\n",
       "      <td>s1704145</td>\n",
       "      <td>test</td>\n",
       "    </tr>\n",
       "    <tr>\n",
       "      <th>...</th>\n",
       "      <td>...</td>\n",
       "      <td>...</td>\n",
       "      <td>...</td>\n",
       "      <td>...</td>\n",
       "      <td>...</td>\n",
       "      <td>...</td>\n",
       "      <td>...</td>\n",
       "      <td>...</td>\n",
       "      <td>...</td>\n",
       "      <td>...</td>\n",
       "      <td>...</td>\n",
       "      <td>...</td>\n",
       "    </tr>\n",
       "    <tr>\n",
       "      <th>166</th>\n",
       "      <td>1634656115146</td>\n",
       "      <td>-0.401367</td>\n",
       "      <td>-0.060852</td>\n",
       "      <td>1.024109</td>\n",
       "      <td>1.718750</td>\n",
       "      <td>-0.312500</td>\n",
       "      <td>-0.015625</td>\n",
       "      <td>Respeck</td>\n",
       "      <td>Lying down on back</td>\n",
       "      <td>2</td>\n",
       "      <td>s1704145</td>\n",
       "      <td>test</td>\n",
       "    </tr>\n",
       "    <tr>\n",
       "      <th>167</th>\n",
       "      <td>1634656115180</td>\n",
       "      <td>-0.383545</td>\n",
       "      <td>-0.064270</td>\n",
       "      <td>0.998962</td>\n",
       "      <td>0.609375</td>\n",
       "      <td>0.234375</td>\n",
       "      <td>-0.171875</td>\n",
       "      <td>Respeck</td>\n",
       "      <td>Lying down on back</td>\n",
       "      <td>2</td>\n",
       "      <td>s1704145</td>\n",
       "      <td>test</td>\n",
       "    </tr>\n",
       "    <tr>\n",
       "      <th>168</th>\n",
       "      <td>1634656115228</td>\n",
       "      <td>-0.403809</td>\n",
       "      <td>-0.058411</td>\n",
       "      <td>1.026062</td>\n",
       "      <td>1.312500</td>\n",
       "      <td>-0.140625</td>\n",
       "      <td>-0.125000</td>\n",
       "      <td>Respeck</td>\n",
       "      <td>Lying down on back</td>\n",
       "      <td>2</td>\n",
       "      <td>s1704145</td>\n",
       "      <td>test</td>\n",
       "    </tr>\n",
       "    <tr>\n",
       "      <th>169</th>\n",
       "      <td>1634656115270</td>\n",
       "      <td>-0.403564</td>\n",
       "      <td>-0.062561</td>\n",
       "      <td>1.028503</td>\n",
       "      <td>1.921875</td>\n",
       "      <td>-0.500000</td>\n",
       "      <td>-0.296875</td>\n",
       "      <td>Respeck</td>\n",
       "      <td>Lying down on back</td>\n",
       "      <td>2</td>\n",
       "      <td>s1704145</td>\n",
       "      <td>test</td>\n",
       "    </tr>\n",
       "    <tr>\n",
       "      <th>170</th>\n",
       "      <td>1634656115310</td>\n",
       "      <td>-0.389404</td>\n",
       "      <td>-0.055481</td>\n",
       "      <td>1.018005</td>\n",
       "      <td>2.031250</td>\n",
       "      <td>-0.187500</td>\n",
       "      <td>0.234375</td>\n",
       "      <td>Respeck</td>\n",
       "      <td>Lying down on back</td>\n",
       "      <td>2</td>\n",
       "      <td>s1704145</td>\n",
       "      <td>test</td>\n",
       "    </tr>\n",
       "  </tbody>\n",
       "</table>\n",
       "<p>171 rows × 12 columns</p>\n",
       "</div>"
      ],
      "text/plain": [
       "         timestamp   accel_x   accel_y   accel_z    gyro_x    gyro_y  \\\n",
       "0    1634656108567 -0.408203 -0.072815  1.030701  1.875000 -0.390625   \n",
       "1    1634656108613 -0.401855 -0.066467  1.018494  2.359375 -0.609375   \n",
       "2    1634656108660 -0.401855 -0.081116  1.023132  2.718750 -0.718750   \n",
       "3    1634656108678 -0.403076 -0.075500  1.020203  3.281250 -1.328125   \n",
       "4    1634656108729 -0.400879 -0.077209  1.031433  3.546875 -1.281250   \n",
       "..             ...       ...       ...       ...       ...       ...   \n",
       "166  1634656115146 -0.401367 -0.060852  1.024109  1.718750 -0.312500   \n",
       "167  1634656115180 -0.383545 -0.064270  0.998962  0.609375  0.234375   \n",
       "168  1634656115228 -0.403809 -0.058411  1.026062  1.312500 -0.140625   \n",
       "169  1634656115270 -0.403564 -0.062561  1.028503  1.921875 -0.500000   \n",
       "170  1634656115310 -0.389404 -0.055481  1.018005  2.031250 -0.187500   \n",
       "\n",
       "       gyro_z sensor_type       activity_type  activity_code subject_id notes  \n",
       "0    0.265625     Respeck  Lying down on back              2   s1704145  test  \n",
       "1    0.343750     Respeck  Lying down on back              2   s1704145  test  \n",
       "2    0.156250     Respeck  Lying down on back              2   s1704145  test  \n",
       "3   -0.187500     Respeck  Lying down on back              2   s1704145  test  \n",
       "4   -0.109375     Respeck  Lying down on back              2   s1704145  test  \n",
       "..        ...         ...                 ...            ...        ...   ...  \n",
       "166 -0.015625     Respeck  Lying down on back              2   s1704145  test  \n",
       "167 -0.171875     Respeck  Lying down on back              2   s1704145  test  \n",
       "168 -0.125000     Respeck  Lying down on back              2   s1704145  test  \n",
       "169 -0.296875     Respeck  Lying down on back              2   s1704145  test  \n",
       "170  0.234375     Respeck  Lying down on back              2   s1704145  test  \n",
       "\n",
       "[171 rows x 12 columns]"
      ]
     },
     "execution_count": 51,
     "metadata": {},
     "output_type": "execute_result"
    }
   ],
   "source": [
    "df_sonia_0"
   ]
  },
  {
   "cell_type": "code",
   "execution_count": 58,
   "id": "6ca51d5f",
   "metadata": {},
   "outputs": [
    {
     "name": "stderr",
     "output_type": "stream",
     "text": [
      "C:\\Users\\Gwenyth\\miniconda3\\envs\\pdiot\\lib\\site-packages\\pandas\\core\\indexing.py:1596: SettingWithCopyWarning: \n",
      "A value is trying to be set on a copy of a slice from a DataFrame.\n",
      "Try using .loc[row_indexer,col_indexer] = value instead\n",
      "\n",
      "See the caveats in the documentation: https://pandas.pydata.org/pandas-docs/stable/user_guide/indexing.html#returning-a-view-versus-a-copy\n",
      "  self.obj[key] = _infer_fill_value(value)\n",
      "C:\\Users\\Gwenyth\\miniconda3\\envs\\pdiot\\lib\\site-packages\\pandas\\core\\indexing.py:1765: SettingWithCopyWarning: \n",
      "A value is trying to be set on a copy of a slice from a DataFrame.\n",
      "Try using .loc[row_indexer,col_indexer] = value instead\n",
      "\n",
      "See the caveats in the documentation: https://pandas.pydata.org/pandas-docs/stable/user_guide/indexing.html#returning-a-view-versus-a-copy\n",
      "  isetter(loc, value)\n"
     ]
    }
   ],
   "source": [
    "window_size = 50 # 50 datapoints for the window size, which, at 25Hz, means 2 seconds\n",
    "step_size = 50 # 25 is 50% overlap\n",
    "\n",
    "window_number = 0 # start a counter at 0 to keep track of the window number\n",
    "\n",
    "all_overlapping_windows = []\n",
    "\n",
    "# Grouping by activity rather than recording_id because I only have sonia's here\n",
    "for rid, group in df_sonia_0.groupby(\"activity_type\"):\n",
    "    large_enough_windows = [window for window in group.rolling(window=window_size, min_periods=window_size) if len(window) == window_size]\n",
    "\n",
    "    overlapping_windows = large_enough_windows[::step_size] \n",
    "\n",
    "    # then we will append a window ID to each window\n",
    "    for window in overlapping_windows:\n",
    "        window.loc[:, 'window_id'] = window_number\n",
    "        window_number += 1\n",
    "\n",
    "    #print(overlapping_windows)\n",
    "\n",
    "    all_overlapping_windows.append(pd.concat(overlapping_windows).reset_index(drop=True))\n",
    "    \n",
    "for rid, group in df_sonia_1.groupby(\"activity_type\"):\n",
    "    large_enough_windows = [window for window in group.rolling(window=window_size, min_periods=window_size) if len(window) == window_size]\n",
    "\n",
    "    overlapping_windows = large_enough_windows[::step_size] \n",
    "\n",
    "    # then we will append a window ID to each window\n",
    "    for window in overlapping_windows:\n",
    "        window.loc[:, 'window_id'] = window_number\n",
    "        window_number += 1\n",
    "\n",
    "    #print(overlapping_windows)\n",
    "\n",
    "    all_overlapping_windows.append(pd.concat(overlapping_windows).reset_index(drop=True))"
   ]
  },
  {
   "cell_type": "code",
   "execution_count": 60,
   "id": "0a7404d8",
   "metadata": {},
   "outputs": [
    {
     "data": {
      "text/html": [
       "<div>\n",
       "<style scoped>\n",
       "    .dataframe tbody tr th:only-of-type {\n",
       "        vertical-align: middle;\n",
       "    }\n",
       "\n",
       "    .dataframe tbody tr th {\n",
       "        vertical-align: top;\n",
       "    }\n",
       "\n",
       "    .dataframe thead th {\n",
       "        text-align: right;\n",
       "    }\n",
       "</style>\n",
       "<table border=\"1\" class=\"dataframe\">\n",
       "  <thead>\n",
       "    <tr style=\"text-align: right;\">\n",
       "      <th></th>\n",
       "      <th>timestamp</th>\n",
       "      <th>accel_x</th>\n",
       "      <th>accel_y</th>\n",
       "      <th>accel_z</th>\n",
       "      <th>gyro_x</th>\n",
       "      <th>gyro_y</th>\n",
       "      <th>gyro_z</th>\n",
       "      <th>sensor_type</th>\n",
       "      <th>activity_type</th>\n",
       "      <th>activity_code</th>\n",
       "      <th>subject_id</th>\n",
       "      <th>notes</th>\n",
       "      <th>window_id</th>\n",
       "    </tr>\n",
       "  </thead>\n",
       "  <tbody>\n",
       "    <tr>\n",
       "      <th>0</th>\n",
       "      <td>1634656108567</td>\n",
       "      <td>-0.408203</td>\n",
       "      <td>-0.072815</td>\n",
       "      <td>1.030701</td>\n",
       "      <td>1.875000</td>\n",
       "      <td>-0.390625</td>\n",
       "      <td>0.265625</td>\n",
       "      <td>Respeck</td>\n",
       "      <td>Lying down on back</td>\n",
       "      <td>2</td>\n",
       "      <td>s1704145</td>\n",
       "      <td>test</td>\n",
       "      <td>0</td>\n",
       "    </tr>\n",
       "    <tr>\n",
       "      <th>1</th>\n",
       "      <td>1634656108613</td>\n",
       "      <td>-0.401855</td>\n",
       "      <td>-0.066467</td>\n",
       "      <td>1.018494</td>\n",
       "      <td>2.359375</td>\n",
       "      <td>-0.609375</td>\n",
       "      <td>0.343750</td>\n",
       "      <td>Respeck</td>\n",
       "      <td>Lying down on back</td>\n",
       "      <td>2</td>\n",
       "      <td>s1704145</td>\n",
       "      <td>test</td>\n",
       "      <td>0</td>\n",
       "    </tr>\n",
       "    <tr>\n",
       "      <th>2</th>\n",
       "      <td>1634656108660</td>\n",
       "      <td>-0.401855</td>\n",
       "      <td>-0.081116</td>\n",
       "      <td>1.023132</td>\n",
       "      <td>2.718750</td>\n",
       "      <td>-0.718750</td>\n",
       "      <td>0.156250</td>\n",
       "      <td>Respeck</td>\n",
       "      <td>Lying down on back</td>\n",
       "      <td>2</td>\n",
       "      <td>s1704145</td>\n",
       "      <td>test</td>\n",
       "      <td>0</td>\n",
       "    </tr>\n",
       "    <tr>\n",
       "      <th>3</th>\n",
       "      <td>1634656108678</td>\n",
       "      <td>-0.403076</td>\n",
       "      <td>-0.075500</td>\n",
       "      <td>1.020203</td>\n",
       "      <td>3.281250</td>\n",
       "      <td>-1.328125</td>\n",
       "      <td>-0.187500</td>\n",
       "      <td>Respeck</td>\n",
       "      <td>Lying down on back</td>\n",
       "      <td>2</td>\n",
       "      <td>s1704145</td>\n",
       "      <td>test</td>\n",
       "      <td>0</td>\n",
       "    </tr>\n",
       "    <tr>\n",
       "      <th>4</th>\n",
       "      <td>1634656108729</td>\n",
       "      <td>-0.400879</td>\n",
       "      <td>-0.077209</td>\n",
       "      <td>1.031433</td>\n",
       "      <td>3.546875</td>\n",
       "      <td>-1.281250</td>\n",
       "      <td>-0.109375</td>\n",
       "      <td>Respeck</td>\n",
       "      <td>Lying down on back</td>\n",
       "      <td>2</td>\n",
       "      <td>s1704145</td>\n",
       "      <td>test</td>\n",
       "      <td>0</td>\n",
       "    </tr>\n",
       "    <tr>\n",
       "      <th>...</th>\n",
       "      <td>...</td>\n",
       "      <td>...</td>\n",
       "      <td>...</td>\n",
       "      <td>...</td>\n",
       "      <td>...</td>\n",
       "      <td>...</td>\n",
       "      <td>...</td>\n",
       "      <td>...</td>\n",
       "      <td>...</td>\n",
       "      <td>...</td>\n",
       "      <td>...</td>\n",
       "      <td>...</td>\n",
       "      <td>...</td>\n",
       "    </tr>\n",
       "    <tr>\n",
       "      <th>295</th>\n",
       "      <td>1634656134598</td>\n",
       "      <td>0.220703</td>\n",
       "      <td>-0.528137</td>\n",
       "      <td>0.454529</td>\n",
       "      <td>-8.796875</td>\n",
       "      <td>21.234375</td>\n",
       "      <td>71.750000</td>\n",
       "      <td>Respeck</td>\n",
       "      <td>Running</td>\n",
       "      <td>11</td>\n",
       "      <td>s1704145</td>\n",
       "      <td>test</td>\n",
       "      <td>5</td>\n",
       "    </tr>\n",
       "    <tr>\n",
       "      <th>296</th>\n",
       "      <td>1634656134630</td>\n",
       "      <td>-0.621338</td>\n",
       "      <td>0.170349</td>\n",
       "      <td>0.033875</td>\n",
       "      <td>-22.546875</td>\n",
       "      <td>-20.468750</td>\n",
       "      <td>14.312500</td>\n",
       "      <td>Respeck</td>\n",
       "      <td>Running</td>\n",
       "      <td>11</td>\n",
       "      <td>s1704145</td>\n",
       "      <td>test</td>\n",
       "      <td>5</td>\n",
       "    </tr>\n",
       "    <tr>\n",
       "      <th>297</th>\n",
       "      <td>1634656134679</td>\n",
       "      <td>-0.301514</td>\n",
       "      <td>0.491638</td>\n",
       "      <td>-0.423889</td>\n",
       "      <td>-11.250000</td>\n",
       "      <td>31.093750</td>\n",
       "      <td>-59.859375</td>\n",
       "      <td>Respeck</td>\n",
       "      <td>Running</td>\n",
       "      <td>11</td>\n",
       "      <td>s1704145</td>\n",
       "      <td>test</td>\n",
       "      <td>5</td>\n",
       "    </tr>\n",
       "    <tr>\n",
       "      <th>298</th>\n",
       "      <td>1634656134729</td>\n",
       "      <td>0.607910</td>\n",
       "      <td>0.160339</td>\n",
       "      <td>-0.207581</td>\n",
       "      <td>-9.000000</td>\n",
       "      <td>19.640625</td>\n",
       "      <td>-15.203125</td>\n",
       "      <td>Respeck</td>\n",
       "      <td>Running</td>\n",
       "      <td>11</td>\n",
       "      <td>s1704145</td>\n",
       "      <td>test</td>\n",
       "      <td>5</td>\n",
       "    </tr>\n",
       "    <tr>\n",
       "      <th>299</th>\n",
       "      <td>1634656134760</td>\n",
       "      <td>0.174072</td>\n",
       "      <td>-0.029846</td>\n",
       "      <td>0.065369</td>\n",
       "      <td>19.578125</td>\n",
       "      <td>-39.390625</td>\n",
       "      <td>21.984375</td>\n",
       "      <td>Respeck</td>\n",
       "      <td>Running</td>\n",
       "      <td>11</td>\n",
       "      <td>s1704145</td>\n",
       "      <td>test</td>\n",
       "      <td>5</td>\n",
       "    </tr>\n",
       "  </tbody>\n",
       "</table>\n",
       "<p>300 rows × 13 columns</p>\n",
       "</div>"
      ],
      "text/plain": [
       "         timestamp   accel_x   accel_y   accel_z     gyro_x     gyro_y  \\\n",
       "0    1634656108567 -0.408203 -0.072815  1.030701   1.875000  -0.390625   \n",
       "1    1634656108613 -0.401855 -0.066467  1.018494   2.359375  -0.609375   \n",
       "2    1634656108660 -0.401855 -0.081116  1.023132   2.718750  -0.718750   \n",
       "3    1634656108678 -0.403076 -0.075500  1.020203   3.281250  -1.328125   \n",
       "4    1634656108729 -0.400879 -0.077209  1.031433   3.546875  -1.281250   \n",
       "..             ...       ...       ...       ...        ...        ...   \n",
       "295  1634656134598  0.220703 -0.528137  0.454529  -8.796875  21.234375   \n",
       "296  1634656134630 -0.621338  0.170349  0.033875 -22.546875 -20.468750   \n",
       "297  1634656134679 -0.301514  0.491638 -0.423889 -11.250000  31.093750   \n",
       "298  1634656134729  0.607910  0.160339 -0.207581  -9.000000  19.640625   \n",
       "299  1634656134760  0.174072 -0.029846  0.065369  19.578125 -39.390625   \n",
       "\n",
       "        gyro_z sensor_type       activity_type  activity_code subject_id  \\\n",
       "0     0.265625     Respeck  Lying down on back              2   s1704145   \n",
       "1     0.343750     Respeck  Lying down on back              2   s1704145   \n",
       "2     0.156250     Respeck  Lying down on back              2   s1704145   \n",
       "3    -0.187500     Respeck  Lying down on back              2   s1704145   \n",
       "4    -0.109375     Respeck  Lying down on back              2   s1704145   \n",
       "..         ...         ...                 ...            ...        ...   \n",
       "295  71.750000     Respeck             Running             11   s1704145   \n",
       "296  14.312500     Respeck             Running             11   s1704145   \n",
       "297 -59.859375     Respeck             Running             11   s1704145   \n",
       "298 -15.203125     Respeck             Running             11   s1704145   \n",
       "299  21.984375     Respeck             Running             11   s1704145   \n",
       "\n",
       "    notes  window_id  \n",
       "0    test          0  \n",
       "1    test          0  \n",
       "2    test          0  \n",
       "3    test          0  \n",
       "4    test          0  \n",
       "..    ...        ...  \n",
       "295  test          5  \n",
       "296  test          5  \n",
       "297  test          5  \n",
       "298  test          5  \n",
       "299  test          5  \n",
       "\n",
       "[300 rows x 13 columns]"
      ]
     },
     "execution_count": 60,
     "metadata": {},
     "output_type": "execute_result"
    }
   ],
   "source": [
    "final_sliding_windows_sonia = pd.concat(all_overlapping_windows).reset_index(drop=True)\n",
    "final_sliding_windows_sonia"
   ]
  },
  {
   "cell_type": "code",
   "execution_count": 63,
   "id": "4fc0dfb6",
   "metadata": {},
   "outputs": [],
   "source": [
    "X_test = []\n",
    "for window_id, group in final_sliding_windows_sonia.groupby('window_id'):\n",
    "    #print(f\"window_id = {window_id}\")\n",
    "    \n",
    "    shape = group[columns_of_interest].values.shape\n",
    "    #print(f\"shape = {shape}\")\n",
    "    \n",
    "    X_test.append(group[columns_of_interest].values)\n",
    "    \n",
    "X_test = np.asarray(X_test)"
   ]
  },
  {
   "cell_type": "code",
   "execution_count": 67,
   "id": "be074799",
   "metadata": {},
   "outputs": [
    {
     "data": {
      "text/plain": [
       "array([[1., 0.],\n",
       "       [1., 0.],\n",
       "       [1., 0.],\n",
       "       [0., 1.],\n",
       "       [0., 1.],\n",
       "       [0., 1.]], dtype=float32)"
      ]
     },
     "execution_count": 67,
     "metadata": {},
     "output_type": "execute_result"
    }
   ],
   "source": [
    "y_test = final_sliding_windows_sonia.groupby(\"window_id\")[['activity_type']].agg(np.min).replace(class_labels)['activity_type'].values\n",
    "y_test = np.asarray(pd.get_dummies(y_test), dtype=np.float32)\n",
    "y_test"
   ]
  },
  {
   "cell_type": "code",
   "execution_count": 64,
   "id": "1e3be73d",
   "metadata": {},
   "outputs": [
    {
     "data": {
      "text/plain": [
       "(6, 50, 6)"
      ]
     },
     "execution_count": 64,
     "metadata": {},
     "output_type": "execute_result"
    }
   ],
   "source": [
    "X_test.shape"
   ]
  },
  {
   "cell_type": "code",
   "execution_count": 68,
   "id": "7aec6a43",
   "metadata": {},
   "outputs": [
    {
     "name": "stdout",
     "output_type": "stream",
     "text": [
      "              precision    recall  f1-score   support\n",
      "\n",
      "           0       1.00      1.00      1.00         3\n",
      "           1       1.00      1.00      1.00         3\n",
      "\n",
      "    accuracy                           1.00         6\n",
      "   macro avg       1.00      1.00      1.00         6\n",
      "weighted avg       1.00      1.00      1.00         6\n",
      "\n"
     ]
    }
   ],
   "source": [
    "y_pred_ohe = model.predict(X_test)\n",
    "y_pred_labels = np.argmax(y_pred_ohe, axis=1)\n",
    "y_true_labels = np.argmax(y_test, axis=1)\n",
    "\n",
    "print(classification_report(y_true_labels, y_pred_labels))"
   ]
  },
  {
   "cell_type": "code",
   "execution_count": null,
   "id": "ccf7406a",
   "metadata": {},
   "outputs": [],
   "source": []
  }
 ],
 "metadata": {
  "kernelspec": {
   "display_name": "Python 3 (ipykernel)",
   "language": "python",
   "name": "python3"
  },
  "language_info": {
   "codemirror_mode": {
    "name": "ipython",
    "version": 3
   },
   "file_extension": ".py",
   "mimetype": "text/x-python",
   "name": "python",
   "nbconvert_exporter": "python",
   "pygments_lexer": "ipython3",
   "version": "3.7.10"
  }
 },
 "nbformat": 4,
 "nbformat_minor": 5
}
