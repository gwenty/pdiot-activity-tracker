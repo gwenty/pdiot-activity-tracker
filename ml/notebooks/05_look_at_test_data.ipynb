{
 "cells": [
  {
   "cell_type": "code",
   "execution_count": 3,
   "id": "9a57d418",
   "metadata": {},
   "outputs": [],
   "source": [
    "import numpy as np\n",
    "import pandas as pd"
   ]
  },
  {
   "cell_type": "code",
   "execution_count": 4,
   "id": "e0435ae0",
   "metadata": {},
   "outputs": [],
   "source": [
    "respeck_unseen = pd.read_csv('../../../Peer review/Test data/Respeck_recordings_unseen.csv')"
   ]
  },
  {
   "cell_type": "code",
   "execution_count": 7,
   "id": "503f052e",
   "metadata": {},
   "outputs": [
    {
     "data": {
      "text/plain": [
       "array(['s1234567', 's7654321'], dtype=object)"
      ]
     },
     "execution_count": 7,
     "metadata": {},
     "output_type": "execute_result"
    }
   ],
   "source": [
    "respeck_unseen['subject_id'].unique()"
   ]
  },
  {
   "cell_type": "code",
   "execution_count": 13,
   "id": "ffdd9b7a",
   "metadata": {},
   "outputs": [
    {
     "name": "stdout",
     "output_type": "stream",
     "text": [
      "18 activities for subject s1234567.\n",
      "18 activities for subject s7654321.\n"
     ]
    }
   ],
   "source": [
    "for subject in respeck_unseen['subject_id'].unique():\n",
    "    n_activities = len(respeck_unseen[respeck_unseen['subject_id'] == subject]['activity_type'].unique())\n",
    "    print('{} activities for subject {}.'.format(n_activities, subject))"
   ]
  },
  {
   "cell_type": "code",
   "execution_count": 8,
   "id": "0b5e5680",
   "metadata": {},
   "outputs": [],
   "source": [
    "thingy_unseen = pd.read_csv('../../../Peer review/Test data/Thingy_recordings_unseen.csv')"
   ]
  },
  {
   "cell_type": "code",
   "execution_count": 9,
   "id": "a37fcc42",
   "metadata": {},
   "outputs": [
    {
     "data": {
      "text/plain": [
       "array(['s1234567', 's7654321'], dtype=object)"
      ]
     },
     "execution_count": 9,
     "metadata": {},
     "output_type": "execute_result"
    }
   ],
   "source": [
    "thingy_unseen['subject_id'].unique()"
   ]
  },
  {
   "cell_type": "code",
   "execution_count": 14,
   "id": "0949c199",
   "metadata": {},
   "outputs": [
    {
     "name": "stdout",
     "output_type": "stream",
     "text": [
      "18 activities for subject s1234567.\n",
      "18 activities for subject s7654321.\n"
     ]
    }
   ],
   "source": [
    "for subject in thingy_unseen['subject_id'].unique():\n",
    "    n_activities = len(thingy_unseen[thingy_unseen['subject_id'] == subject]['activity_type'].unique())\n",
    "    print('{} activities for subject {}.'.format(n_activities, subject))"
   ]
  },
  {
   "cell_type": "code",
   "execution_count": null,
   "id": "cd6edc57",
   "metadata": {},
   "outputs": [],
   "source": []
  }
 ],
 "metadata": {
  "kernelspec": {
   "display_name": "Python 3 (ipykernel)",
   "language": "python",
   "name": "python3"
  },
  "language_info": {
   "codemirror_mode": {
    "name": "ipython",
    "version": 3
   },
   "file_extension": ".py",
   "mimetype": "text/x-python",
   "name": "python",
   "nbconvert_exporter": "python",
   "pygments_lexer": "ipython3",
   "version": "3.7.10"
  }
 },
 "nbformat": 4,
 "nbformat_minor": 5
}
