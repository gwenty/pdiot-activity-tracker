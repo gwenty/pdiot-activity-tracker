{
 "cells": [
  {
   "cell_type": "code",
   "execution_count": 1,
   "id": "4560f333",
   "metadata": {},
   "outputs": [],
   "source": [
    "import pandas as pd\n",
    "import numpy as np\n",
    "import os\n",
    "import tsfresh\n",
    "from sklearn.model_selection import train_test_split\n",
    "from sklearn.ensemble import RandomForestClassifier\n",
    "from sklearn.metrics import classification_report\n",
    "import tensorflow as tf\n",
    "\n",
    "import os\n",
    "\n",
    "import matplotlib.pyplot as plt\n",
    "\n",
    "# keras goodies\n",
    "from tensorflow.keras.models import Sequential\n",
    "from tensorflow.keras.layers import Dense, Activation, Flatten, Conv1D, Dropout, MaxPooling1D, BatchNormalization\n",
    "from tensorflow.keras import optimizers\n",
    "from tensorflow.keras import regularizers\n",
    "from tensorflow.keras import metrics as kmetrics\n",
    "import tensorflow.keras.backend as K"
   ]
  },
  {
   "cell_type": "markdown",
   "id": "f8f0e2ca",
   "metadata": {},
   "source": [
    "## Getting the data"
   ]
  },
  {
   "cell_type": "markdown",
   "id": "201baf0a",
   "metadata": {},
   "source": [
    "Before you run this, make sure that you have generated a sliding_windows file by running 01_sliding_windows."
   ]
  },
  {
   "cell_type": "code",
   "execution_count": 2,
   "id": "355a2799",
   "metadata": {},
   "outputs": [],
   "source": [
    "data_path = '../data/'"
   ]
  },
  {
   "cell_type": "code",
   "execution_count": 115,
   "id": "a08589ff",
   "metadata": {},
   "outputs": [],
   "source": [
    "final_sliding_windows = pd.read_csv(data_path + '/sliding_windows_Thingy_smallest20_size20_step20.csv')\n",
    "final_sliding_windows = pd.read_csv(data_path + '/sliding_windows_Respeck_smallest20_size20_step20.csv')"
   ]
  },
  {
   "cell_type": "code",
   "execution_count": 116,
   "id": "3a4935ff",
   "metadata": {},
   "outputs": [
    {
     "data": {
      "image/png": "[encoded data removed]",
      "text/plain": [
       "<Figure size 432x288 with 1 Axes>"
      ]
     },
     "metadata": {
      "needs_background": "light"
     },
     "output_type": "display_data"
    }
   ],
   "source": [
    "def plot_by_id(df, i): \n",
    "    plot_recording = df[df['recording_id'] == i]\n",
    "    plot_recording = plot_recording.reset_index()\n",
    "    plt.plot(plot_recording.index, plot_recording['accel_x'])\n",
    "    plt.plot(plot_recording.index, plot_recording['accel_y'])\n",
    "    plt.plot(plot_recording.index, plot_recording['accel_z'])\n",
    "     \n",
    "plot_by_id(final_sliding_windows, 'Respeck_s1865457_Falling on the back_30-09-2021_11-53-32')"
   ]
  },
  {
   "cell_type": "markdown",
   "id": "20b1ef0d",
   "metadata": {},
   "source": [
    "## Split into training and test sets\n",
    "\n",
    "Make sure to split by subject!\n",
    "\n",
    "Take care if you have overlapping windows - this will need changing. "
   ]
  },
  {
   "cell_type": "code",
   "execution_count": 97,
   "id": "473d2fb2",
   "metadata": {},
   "outputs": [],
   "source": [
    "columns_of_interest = ['accel_x', 'accel_y', 'accel_z', 'gyro_x', 'gyro_y', 'gyro_z']"
   ]
  },
  {
   "cell_type": "code",
   "execution_count": 98,
   "id": "b085f81b",
   "metadata": {},
   "outputs": [],
   "source": [
    "# Simple for now\n",
    "subjects = final_sliding_windows['subject_id'].unique()\n",
    "\n",
    "train_subjects, test_subjects = train_test_split(subjects, test_size=0.2, train_size=0.8)\n",
    "\n",
    "X_train_full = final_sliding_windows[final_sliding_windows['subject_id'].isin(train_subjects)][['window_id'] + columns_of_interest]\n",
    "y_train_full = final_sliding_windows[final_sliding_windows['subject_id'].isin(train_subjects)][['window_id'] + ['activity_type']]\n",
    "\n",
    "X_test_full = final_sliding_windows[final_sliding_windows['subject_id'].isin(test_subjects)][['window_id'] + columns_of_interest]\n",
    "y_test_full = final_sliding_windows[final_sliding_windows['subject_id'].isin(test_subjects)][['window_id'] + ['activity_type']]\n"
   ]
  },
  {
   "cell_type": "markdown",
   "id": "f96f4fb0",
   "metadata": {},
   "source": [
    "## Format the input"
   ]
  },
  {
   "cell_type": "markdown",
   "id": "fbaae606",
   "metadata": {},
   "source": [
    "Format data into windows - make (50,6) inputs"
   ]
  },
  {
   "cell_type": "code",
   "execution_count": 99,
   "id": "c6fbc52b",
   "metadata": {},
   "outputs": [],
   "source": [
    "class_labels = {\n",
    "    'Sitting': 0,\n",
    "    'Sitting bent forward': 1,\n",
    "    'Sitting bent backward': 2,\n",
    "    'Standing': 3,\n",
    "    'Lying down left': 4,\n",
    "    'Lying down right': 5,\n",
    "    'Lying down on stomach': 6,\n",
    "    'Lying down on back': 7,\n",
    "    'Walking at normal speed': 8,\n",
    "    'Running': 9,\n",
    "    'Climbing stairs': 10,\n",
    "    'Descending stairs': 11,\n",
    "    'Desk work': 12,\n",
    "    'Movement': 13,\n",
    "    'Falling on knees': 14,\n",
    "    'Falling on the back': 15,\n",
    "    'Falling on the left': 16,\n",
    "    'Falling on the right': 17\n",
    "}"
   ]
  },
  {
   "cell_type": "code",
   "execution_count": 100,
   "id": "ee78afe6",
   "metadata": {},
   "outputs": [],
   "source": [
    "# Keep only the classes of interest\n",
    "X_train_full = X_train_full[y_train_full['activity_type'].isin(class_labels.keys())]\n",
    "X_test_full = X_test_full[y_test_full['activity_type'].isin(class_labels.keys())]\n",
    "y_train_full = y_train_full[y_train_full['activity_type'].isin(class_labels.keys())]\n",
    "y_test_full = y_test_full[y_test_full['activity_type'].isin(class_labels.keys())]\n",
    "\n",
    "# Create the y ones\n",
    "y_train = y_train_full.groupby(\"window_id\")[['activity_type']].agg(np.min).replace(class_labels)['activity_type'].values\n",
    "y_test = y_test_full.groupby(\"window_id\")[['activity_type']].agg(np.min).replace(class_labels)['activity_type'].values\n",
    "\n",
    "y_train = np.asarray(pd.get_dummies(y_train), dtype=np.float32)\n",
    "y_test = np.asarray(pd.get_dummies(y_test), dtype=np.float32)"
   ]
  },
  {
   "cell_type": "code",
   "execution_count": 101,
   "id": "ee97a887",
   "metadata": {},
   "outputs": [],
   "source": [
    "X_train = []\n",
    "X_test = []\n",
    "    \n",
    "for window_id, group in X_train_full.groupby('window_id'):\n",
    "    #print(f\"window_id = {window_id}\")\n",
    "    \n",
    "    shape = group[columns_of_interest].values.shape\n",
    "    #print(f\"shape = {shape}\")\n",
    "    if shape == (20,6):\n",
    "        X_train.append(group[columns_of_interest].values)\n",
    "    \n",
    "for window_id, group in X_test_full.groupby('window_id'):\n",
    "    #print(f\"window_id = {window_id}\")\n",
    "    \n",
    "    shape = group[columns_of_interest].values.shape\n",
    "    #print(f\"shape = {shape}\")\n",
    "    \n",
    "    X_test.append(group[columns_of_interest].values)\n",
    "    \n",
    "X_train = np.asarray(X_train)#, dtype=object)\n",
    "X_test = np.asarray(X_test)#, dtype=object)"
   ]
  },
  {
   "cell_type": "code",
   "execution_count": 102,
   "id": "e96ed899",
   "metadata": {},
   "outputs": [
    {
     "name": "stdout",
     "output_type": "stream",
     "text": [
      "(23446, 20, 6)\n",
      "(5342, 20, 6)\n",
      "(23446, 18)\n",
      "(5342, 18)\n"
     ]
    }
   ],
   "source": [
    "print(np.shape(X_train))\n",
    "print(np.shape(X_test))\n",
    "\n",
    "print(np.shape(y_train))\n",
    "print(np.shape(y_test))"
   ]
  },
  {
   "cell_type": "markdown",
   "id": "d40a9bf3",
   "metadata": {},
   "source": [
    "## Prepping the model"
   ]
  },
  {
   "cell_type": "code",
   "execution_count": 103,
   "id": "8eefa967",
   "metadata": {},
   "outputs": [],
   "source": [
    "filters = 64\n",
    "kernel_size = 3\n",
    "n_features = 6\n",
    "activation ='relu'\n",
    "n_classes = len(class_labels)\n",
    "window_size = 20\n",
    "#filters = [3, 7, 11]"
   ]
  },
  {
   "cell_type": "code",
   "execution_count": 104,
   "id": "312a21a3",
   "metadata": {},
   "outputs": [
    {
     "name": "stdout",
     "output_type": "stream",
     "text": [
      "Model: \"sequential_3\"\n",
      "_________________________________________________________________\n",
      "Layer (type)                 Output Shape              Param #   \n",
      "=================================================================\n",
      "conv1d_9 (Conv1D)            (None, 18, 64)            1216      \n",
      "_________________________________________________________________\n",
      "batch_normalization_9 (Batch (None, 18, 64)            256       \n",
      "_________________________________________________________________\n",
      "activation_9 (Activation)    (None, 18, 64)            0         \n",
      "_________________________________________________________________\n",
      "conv1d_10 (Conv1D)           (None, 16, 64)            12352     \n",
      "_________________________________________________________________\n",
      "batch_normalization_10 (Batc (None, 16, 64)            256       \n",
      "_________________________________________________________________\n",
      "activation_10 (Activation)   (None, 16, 64)            0         \n",
      "_________________________________________________________________\n",
      "conv1d_11 (Conv1D)           (None, 14, 64)            12352     \n",
      "_________________________________________________________________\n",
      "batch_normalization_11 (Batc (None, 14, 64)            256       \n",
      "_________________________________________________________________\n",
      "activation_11 (Activation)   (None, 14, 64)            0         \n",
      "_________________________________________________________________\n",
      "flatten_3 (Flatten)          (None, 896)               0         \n",
      "_________________________________________________________________\n",
      "dense_6 (Dense)              (None, 100)               89700     \n",
      "_________________________________________________________________\n",
      "dense_7 (Dense)              (None, 18)                1818      \n",
      "=================================================================\n",
      "Total params: 118,206\n",
      "Trainable params: 117,822\n",
      "Non-trainable params: 384\n",
      "_________________________________________________________________\n"
     ]
    }
   ],
   "source": [
    "tf.random.set_seed(1)\n",
    "\n",
    "model = Sequential()\n",
    "\n",
    "model.add(Conv1D(filters=filters, kernel_size=kernel_size, activation='linear', \n",
    "                 input_shape=(window_size, n_features)))\n",
    "model.add(BatchNormalization())\n",
    "model.add(Activation(activation))\n",
    "\n",
    "model.add(Conv1D(filters=filters, kernel_size=kernel_size, activation='linear'))\n",
    "model.add(BatchNormalization())\n",
    "model.add(Activation(activation))\n",
    "\n",
    "model.add(Conv1D(filters=filters, kernel_size=kernel_size, activation='linear'))\n",
    "model.add(BatchNormalization())\n",
    "model.add(Activation(activation))\n",
    "\n",
    "model.add(Flatten())\n",
    "model.add(Dense(100, activation='relu'))\n",
    "model.add(Dense(n_classes, activation='softmax'))\n",
    "\n",
    "model.summary()"
   ]
  },
  {
   "cell_type": "code",
   "execution_count": 105,
   "id": "94b4e83c",
   "metadata": {},
   "outputs": [],
   "source": [
    "model.compile(\n",
    "    optimizer=optimizers.Adam(lr=0.001),\n",
    "    loss='categorical_crossentropy',\n",
    "    metrics = ['accuracy'])"
   ]
  },
  {
   "cell_type": "markdown",
   "id": "2040a9bc",
   "metadata": {},
   "source": [
    "## Training the model"
   ]
  },
  {
   "cell_type": "code",
   "execution_count": 106,
   "id": "583edb5a",
   "metadata": {},
   "outputs": [
    {
     "name": "stdout",
     "output_type": "stream",
     "text": [
      "Train on 23446 samples\n",
      "Epoch 1/10\n",
      "23446/23446 [==============================] - 6s 255us/sample - loss: 1.7236 - accuracy: 0.3939\n",
      "Epoch 2/10\n",
      "23446/23446 [==============================] - 4s 184us/sample - loss: 1.1929 - accuracy: 0.5817\n",
      "Epoch 3/10\n",
      "23446/23446 [==============================] - 4s 178us/sample - loss: 1.0287 - accuracy: 0.6297\n",
      "Epoch 4/10\n",
      "23446/23446 [==============================] - 4s 181us/sample - loss: 0.9381 - accuracy: 0.6578\n",
      "Epoch 5/10\n",
      "23446/23446 [==============================] - 4s 183us/sample - loss: 0.8914 - accuracy: 0.6722\n",
      "Epoch 6/10\n",
      "23446/23446 [==============================] - 4s 182us/sample - loss: 0.8310 - accuracy: 0.6919\n",
      "Epoch 7/10\n",
      "23446/23446 [==============================] - 4s 184us/sample - loss: 0.7975 - accuracy: 0.7015\n",
      "Epoch 8/10\n",
      "23446/23446 [==============================] - 4s 180us/sample - loss: 0.7614 - accuracy: 0.7119\n",
      "Epoch 9/10\n",
      "23446/23446 [==============================] - 4s 181us/sample - loss: 0.7337 - accuracy: 0.7197\n",
      "Epoch 10/10\n",
      "23446/23446 [==============================] - 4s 187us/sample - loss: 0.7149 - accuracy: 0.7266\n"
     ]
    },
    {
     "data": {
      "text/plain": [
       "<tensorflow.python.keras.callbacks.History at 0x1ed10a14f08>"
      ]
     },
     "execution_count": 106,
     "metadata": {},
     "output_type": "execute_result"
    }
   ],
   "source": [
    "model.fit(X_train, y_train, batch_size=100, epochs=10)"
   ]
  },
  {
   "cell_type": "markdown",
   "id": "a0e2f266",
   "metadata": {},
   "source": [
    "## Testing the model"
   ]
  },
  {
   "cell_type": "code",
   "execution_count": 107,
   "id": "7d59e744",
   "metadata": {},
   "outputs": [],
   "source": [
    "# stats\n",
    "y_pred_ohe = model.predict(X_test)\n",
    "y_pred_labels = np.argmax(y_pred_ohe, axis=1)\n",
    "y_true_labels = np.argmax(y_test, axis=1)"
   ]
  },
  {
   "cell_type": "code",
   "execution_count": 108,
   "id": "7dc4f54f",
   "metadata": {},
   "outputs": [
    {
     "name": "stdout",
     "output_type": "stream",
     "text": [
      "********************************************************************************\n",
      "Classification report\n",
      "********************************************************************************\n",
      "              precision    recall  f1-score   support\n",
      "\n",
      "           0       0.00      0.00      0.00       335\n",
      "           1       0.34      0.26      0.30       298\n",
      "           2       0.19      0.24      0.21       297\n",
      "           3       0.88      0.87      0.88       298\n",
      "           4       0.83      0.62      0.71       298\n",
      "           5       0.89      1.00      0.94       297\n",
      "           6       0.85      0.75      0.80       297\n",
      "           7       0.28      0.75      0.41       299\n",
      "           8       0.76      0.82      0.79       334\n",
      "           9       0.88      0.99      0.93       332\n",
      "          10       0.90      0.85      0.87       333\n",
      "          11       0.68      0.79      0.73       332\n",
      "          12       0.12      0.05      0.07       298\n",
      "          13       0.63      0.52      0.57       334\n",
      "          14       0.75      0.53      0.62       228\n",
      "          15       0.69      0.57      0.62       240\n",
      "          16       0.81      0.70      0.75       250\n",
      "          17       0.63      0.84      0.72       242\n",
      "\n",
      "    accuracy                           0.62      5342\n",
      "   macro avg       0.62      0.62      0.61      5342\n",
      "weighted avg       0.61      0.62      0.61      5342\n",
      "\n"
     ]
    }
   ],
   "source": [
    "print(\"*\" * 80)\n",
    "print(\"Classification report\")\n",
    "print(\"*\" * 80)\n",
    "print(classification_report(y_true_labels, y_pred_labels))"
   ]
  },
  {
   "cell_type": "code",
   "execution_count": 109,
   "id": "234b0373",
   "metadata": {},
   "outputs": [],
   "source": [
    "confusion_matrix = tf.math.confusion_matrix(\n",
    "    y_true_labels, y_pred_labels, num_classes=None, weights=None, dtype=tf.dtypes.int32,\n",
    "    name=None\n",
    ")"
   ]
  },
  {
   "cell_type": "code",
   "execution_count": 110,
   "id": "512bc0b7",
   "metadata": {},
   "outputs": [
    {
     "data": {
      "text/plain": [
       "<AxesSubplot:>"
      ]
     },
     "execution_count": 110,
     "metadata": {},
     "output_type": "execute_result"
    },
    {
     "data": {
      "image/png": "[encoded data removed]",
      "text/plain": [
       "<Figure size 432x288 with 2 Axes>"
      ]
     },
     "metadata": {
      "needs_background": "light"
     },
     "output_type": "display_data"
    }
   ],
   "source": [
    "import seaborn as sns\n",
    "sns.heatmap(confusion_matrix, annot=True, xticklabels=class_labels.keys(), yticklabels=class_labels.keys())"
   ]
  },
  {
   "cell_type": "markdown",
   "id": "7f357cbc",
   "metadata": {},
   "source": [
    "### Accuracy of the subset"
   ]
  },
  {
   "cell_type": "code",
   "execution_count": 111,
   "id": "180106d7",
   "metadata": {},
   "outputs": [],
   "source": [
    " groups = {\n",
    "     'Sitting/Standing': [0,1,2,3,12], # including desk work\n",
    "     'Lying': [4,5,6,7],\n",
    "     'Walking': [8,10,11,13], # I include up and down stairs in this one + movement\n",
    "     'Running': [9],\n",
    "     'Falling': [14,15,16,17]\n",
    " }"
   ]
  },
  {
   "cell_type": "code",
   "execution_count": 112,
   "id": "4b637b98",
   "metadata": {},
   "outputs": [],
   "source": [
    "def group_y(y):\n",
    "    grouped_y = []\n",
    "    for yy in y:\n",
    "        group = [i for i,v in enumerate(groups.values()) if yy in v][0]\n",
    "        grouped_y.append(group)\n",
    "    return grouped_y"
   ]
  },
  {
   "cell_type": "code",
   "execution_count": 113,
   "id": "d42ebdf5",
   "metadata": {},
   "outputs": [],
   "source": [
    "grouped_y_true_labels = group_y(y_true_labels)\n",
    "grouped_y_pred_labels = group_y(y_pred_labels)"
   ]
  },
  {
   "cell_type": "code",
   "execution_count": 114,
   "id": "6abe943d",
   "metadata": {},
   "outputs": [
    {
     "name": "stdout",
     "output_type": "stream",
     "text": [
      "********************************************************************************\n",
      "Classification report\n",
      "********************************************************************************\n",
      "              precision    recall  f1-score   support\n",
      "\n",
      "           0       0.86      0.62      0.72      1526\n",
      "           1       0.64      0.87      0.74      1191\n",
      "           2       0.91      0.92      0.92      1333\n",
      "           3       0.88      0.99      0.93       332\n",
      "           4       0.93      0.87      0.90       960\n",
      "\n",
      "    accuracy                           0.82      5342\n",
      "   macro avg       0.84      0.85      0.84      5342\n",
      "weighted avg       0.84      0.82      0.82      5342\n",
      "\n"
     ]
    }
   ],
   "source": [
    "print(\"*\" * 80)\n",
    "print(\"Classification report\")\n",
    "print(\"*\" * 80)\n",
    "print(classification_report(grouped_y_true_labels, grouped_y_pred_labels))"
   ]
  },
  {
   "cell_type": "markdown",
   "id": "c17abf43",
   "metadata": {},
   "source": [
    "### Save a test intance"
   ]
  },
  {
   "cell_type": "code",
   "execution_count": 107,
   "id": "2e22af1f",
   "metadata": {},
   "outputs": [
    {
     "name": "stdout",
     "output_type": "stream",
     "text": [
      "[0. 0. 0. 0. 0. 0. 0. 0. 0. 0. 1. 0. 0. 0. 0. 0. 0. 0.]\n",
      "[0. 0. 0. 0. 0. 0. 0. 0. 0. 0. 1. 0. 0. 0. 0. 0. 0. 0.]\n",
      "[0. 0. 0. 0. 0. 0. 0. 0. 0. 0. 1. 0. 0. 0. 0. 0. 0. 0.]\n",
      "[0. 0. 0. 0. 0. 0. 0. 0. 0. 0. 1. 0. 0. 0. 0. 0. 0. 0.]\n",
      "[0. 0. 0. 0. 0. 0. 0. 0. 0. 0. 1. 0. 0. 0. 0. 0. 0. 0.]\n"
     ]
    }
   ],
   "source": [
    "for i in range(5):\n",
    "    print(y_test[i])\n",
    "    #np.savetxt('data/test_instance_window20_' + str(i) + '.txt', X_test[i])"
   ]
  },
  {
   "cell_type": "code",
   "execution_count": 106,
   "id": "4e3e8a50",
   "metadata": {},
   "outputs": [
    {
     "name": "stdout",
     "output_type": "stream",
     "text": [
      "[0. 0. 0. 0. 0. 0. 0. 0. 0. 0. 1. 0. 0. 0. 0. 0. 0. 0.]\n",
      "[0. 0. 0. 0. 0. 0. 0. 0. 0. 0. 1. 0. 0. 0. 0. 0. 0. 0.]\n",
      "[0. 0. 0. 0. 0. 0. 0. 0. 0. 0. 1. 0. 0. 0. 0. 0. 0. 0.]\n",
      "[0. 0. 0. 0. 0. 0. 0. 0. 0. 0. 1. 0. 0. 0. 0. 0. 0. 0.]\n",
      "[0. 0. 0. 0. 0. 0. 0. 0. 0. 0. 1. 0. 0. 0. 0. 0. 0. 0.]\n"
     ]
    }
   ],
   "source": [
    "for i in np.arange(15,20):\n",
    "    print(y_test[i])\n",
    "    np.savetxt('data/test_instance_window20_' + str(i) + '.txt', X_test[i])"
   ]
  },
  {
   "cell_type": "markdown",
   "id": "06e32c61",
   "metadata": {},
   "source": [
    "## Save to file and convert to tflite"
   ]
  },
  {
   "cell_type": "code",
   "execution_count": 123,
   "id": "6296f1d0",
   "metadata": {},
   "outputs": [
    {
     "name": "stdout",
     "output_type": "stream",
     "text": [
      "INFO:tensorflow:Assets written to: models\\cnn_simple_full_thingy\\assets\n"
     ]
    },
    {
     "data": {
      "text/plain": [
       "473324"
      ]
     },
     "execution_count": 123,
     "metadata": {},
     "output_type": "execute_result"
    }
   ],
   "source": [
    "# Saving the model to file\n",
    "model_name = 'cnn_simple_full_thingy'\n",
    "\n",
    "export_dir = 'models\\\\' + model_name\n",
    "tf.saved_model.save(model,export_dir)\n",
    "\n",
    "# Convert the saved tensorflow model to tensorflow lite\n",
    "converter = tf.lite.TFLiteConverter.from_saved_model(export_dir)\n",
    "tflite_model = converter.convert()\n",
    "\n",
    "# Save the tensorflow lite model to file\n",
    "import pathlib\n",
    "tflite_model_file = pathlib.Path('models/' + model_name + '.tflite')\n",
    "tflite_model_file.write_bytes(tflite_model)"
   ]
  },
  {
   "cell_type": "code",
   "execution_count": null,
   "id": "05e36fa4",
   "metadata": {},
   "outputs": [],
   "source": []
  },
  {
   "cell_type": "code",
   "execution_count": null,
   "id": "2ae54ca5",
   "metadata": {},
   "outputs": [],
   "source": []
  },
  {
   "cell_type": "code",
   "execution_count": null,
   "id": "3f5cb93a",
   "metadata": {},
   "outputs": [],
   "source": []
  },
  {
   "cell_type": "code",
   "execution_count": null,
   "id": "4dbe7f01",
   "metadata": {},
   "outputs": [],
   "source": []
  },
  {
   "cell_type": "code",
   "execution_count": null,
   "id": "56a2bf66",
   "metadata": {},
   "outputs": [],
   "source": []
  }
 ],
 "metadata": {
  "kernelspec": {
   "display_name": "Python 3 (ipykernel)",
   "language": "python",
   "name": "python3"
  },
  "language_info": {
   "codemirror_mode": {
    "name": "ipython",
    "version": 3
   },
   "file_extension": ".py",
   "mimetype": "text/x-python",
   "name": "python",
   "nbconvert_exporter": "python",
   "pygments_lexer": "ipython3",
   "version": "3.7.10"
  }
 },
 "nbformat": 4,
 "nbformat_minor": 5
}
