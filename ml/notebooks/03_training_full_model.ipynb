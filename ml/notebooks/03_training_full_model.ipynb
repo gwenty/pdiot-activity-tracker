{
 "cells": [
  {
   "cell_type": "code",
   "execution_count": 6,
   "id": "4560f333",
   "metadata": {},
   "outputs": [],
   "source": [
    "import pandas as pd\n",
    "import numpy as np\n",
    "import os\n",
    "import tsfresh\n",
    "from sklearn.model_selection import train_test_split\n",
    "from sklearn.model_selection import LeaveOneGroupOut\n",
    "from sklearn.ensemble import RandomForestClassifier\n",
    "from sklearn.metrics import classification_report\n",
    "import tensorflow as tf\n",
    "import seaborn as sns\n",
    "\n",
    "import os\n",
    "\n",
    "import matplotlib.pyplot as plt\n",
    "\n",
    "# keras goodies\n",
    "from tensorflow.keras.models import Sequential\n",
    "from tensorflow.keras.layers import Dense, Activation, Flatten, Conv1D, Dropout, MaxPooling1D, BatchNormalization\n",
    "from tensorflow.keras import optimizers\n",
    "from tensorflow.keras import regularizers\n",
    "from tensorflow.keras import metrics as kmetrics\n",
    "import tensorflow.keras.backend as K"
   ]
  },
  {
   "cell_type": "markdown",
   "id": "f8f0e2ca",
   "metadata": {},
   "source": [
    "## Getting the data"
   ]
  },
  {
   "cell_type": "markdown",
   "id": "201baf0a",
   "metadata": {},
   "source": [
    "Before you run this, make sure that you have generated a sliding_windows file by running 01_sliding_windows."
   ]
  },
  {
   "cell_type": "code",
   "execution_count": 7,
   "id": "355a2799",
   "metadata": {},
   "outputs": [],
   "source": [
    "data_path = '../data/'"
   ]
  },
  {
   "cell_type": "code",
   "execution_count": 8,
   "id": "a08589ff",
   "metadata": {},
   "outputs": [],
   "source": [
    "final_sliding_windows = pd.read_csv(data_path + '/sliding_windows_Thingy_smallest20_size20_step20.csv')\n",
    "# final_sliding_windows = pd.read_csv(data_path + '/sliding_windows_Respeck_smallest20_size20_step20.csv')"
   ]
  },
  {
   "cell_type": "code",
   "execution_count": 9,
   "id": "3a4935ff",
   "metadata": {},
   "outputs": [],
   "source": [
    "def plot_by_id(df, i): \n",
    "    plot_recording = df[df['recording_id'] == i]\n",
    "    plot_recording = plot_recording.reset_index()\n",
    "    plt.plot(plot_recording.index, plot_recording['accel_x'])\n",
    "    plt.plot(plot_recording.index, plot_recording['accel_y'])\n",
    "    plt.plot(plot_recording.index, plot_recording['accel_z'])\n",
    "     \n",
    "# plot_by_id(final_sliding_windows, 'Respeck_s1865457_Falling on the back_30-09-2021_11-53-32')"
   ]
  },
  {
   "cell_type": "markdown",
   "id": "3a83bdc8",
   "metadata": {},
   "source": [
    "## Some definitions"
   ]
  },
  {
   "cell_type": "markdown",
   "id": "d40a9bf3",
   "metadata": {},
   "source": [
    "### Prepping the CNN model"
   ]
  },
  {
   "cell_type": "code",
   "execution_count": 10,
   "id": "8eefa967",
   "metadata": {},
   "outputs": [],
   "source": [
    "def prep_cnn():\n",
    "    print(\"Prepping CNN...\")\n",
    "    \n",
    "    filters = 64\n",
    "    kernel_size = 3\n",
    "    n_features = 6\n",
    "    activation ='relu'\n",
    "    n_classes = len(class_labels)\n",
    "    window_size = 20\n",
    "    #filters = [3, 7, 11]\n",
    "    \n",
    "    tf.random.set_seed(1)\n",
    "\n",
    "    model = Sequential()\n",
    "\n",
    "    model.add(Conv1D(filters=filters, kernel_size=kernel_size, activation='linear', \n",
    "                     input_shape=(window_size, n_features)))\n",
    "    model.add(BatchNormalization())\n",
    "    model.add(Activation(activation))\n",
    "\n",
    "    model.add(Conv1D(filters=filters, kernel_size=kernel_size, activation='linear'))\n",
    "    model.add(BatchNormalization())\n",
    "    model.add(Activation(activation))\n",
    "\n",
    "    model.add(Conv1D(filters=filters, kernel_size=kernel_size, activation='linear'))\n",
    "    model.add(BatchNormalization())\n",
    "    model.add(Activation(activation))\n",
    "\n",
    "    model.add(Flatten())\n",
    "    model.add(Dense(100, activation='relu'))\n",
    "    model.add(Dense(n_classes, activation='softmax'))\n",
    "\n",
    "    #model.summary()\n",
    "    \n",
    "    model.compile(\n",
    "    optimizer=optimizers.Adam(lr=0.001),\n",
    "    loss='categorical_crossentropy',\n",
    "    metrics = ['accuracy'])\n",
    "    \n",
    "    print(\"CNN prepped.\")\n",
    "    \n",
    "    return model"
   ]
  },
  {
   "cell_type": "markdown",
   "id": "f96f4fb0",
   "metadata": {},
   "source": [
    "### Format the input"
   ]
  },
  {
   "cell_type": "markdown",
   "id": "fbaae606",
   "metadata": {},
   "source": [
    "Format data into windows - make (window_size,6) inputs"
   ]
  },
  {
   "cell_type": "code",
   "execution_count": 11,
   "id": "473d2fb2",
   "metadata": {},
   "outputs": [],
   "source": [
    "columns_of_interest = ['accel_x', 'accel_y', 'accel_z', 'gyro_x', 'gyro_y', 'gyro_z']"
   ]
  },
  {
   "cell_type": "code",
   "execution_count": 12,
   "id": "71797174",
   "metadata": {},
   "outputs": [],
   "source": [
    "class_labels = {\n",
    "    'Sitting': 0,\n",
    "    'Sitting bent forward': 1,\n",
    "    'Sitting bent backward': 2,\n",
    "    'Standing': 3,\n",
    "    'Lying down left': 4,\n",
    "    'Lying down right': 5,\n",
    "    'Lying down on stomach': 6,\n",
    "    'Lying down on back': 7,\n",
    "    'Walking at normal speed': 8,\n",
    "    'Running': 9,\n",
    "    'Climbing stairs': 10,\n",
    "    'Descending stairs': 11,\n",
    "    'Desk work': 12,\n",
    "    'Movement': 13,\n",
    "    'Falling on knees': 14,\n",
    "    'Falling on the back': 15,\n",
    "    'Falling on the left': 16,\n",
    "    'Falling on the right': 17\n",
    "}"
   ]
  },
  {
   "cell_type": "code",
   "execution_count": 13,
   "id": "ee78afe6",
   "metadata": {},
   "outputs": [],
   "source": [
    "def format_data(X_train_full, y_train_full, X_test_full, y_test_full):\n",
    "    \n",
    "    print(\"Formating data...\")\n",
    "    # Keep only the classes of interest\n",
    "#     X_train_full = X_train_full[y_train_full['activity_type'].isin(class_labels.keys())]\n",
    "#     X_test_full = X_test_full[y_test_full['activity_type'].isin(class_labels.keys())]\n",
    "#     y_train_full = y_train_full[y_train_full['activity_type'].isin(class_labels.keys())]\n",
    "#     y_test_full = y_test_full[y_test_full['activity_type'].isin(class_labels.keys())]\n",
    "\n",
    "    # Create the y ones\n",
    "    y_train = y_train_full.groupby(\"window_id\")[['activity_type']].agg(np.min).replace(class_labels)['activity_type'].values\n",
    "    y_test = y_test_full.groupby(\"window_id\")[['activity_type']].agg(np.min).replace(class_labels)['activity_type'].values\n",
    "    y_train = np.asarray(pd.get_dummies(y_train), dtype=np.float32)\n",
    "    y_test = np.asarray(pd.get_dummies(y_test), dtype=np.float32)\n",
    "    \n",
    "    X_train = []\n",
    "    X_test = []\n",
    "\n",
    "    for window_id, group in X_train_full.groupby('window_id'):\n",
    "        #print(f\"window_id = {window_id}\")\n",
    "\n",
    "        shape = group[columns_of_interest].values.shape\n",
    "        #print(f\"shape = {shape}\")\n",
    "        if shape == (20,6):\n",
    "            X_train.append(group[columns_of_interest].values)\n",
    "\n",
    "    for window_id, group in X_test_full.groupby('window_id'):\n",
    "        #print(f\"window_id = {window_id}\")\n",
    "\n",
    "        shape = group[columns_of_interest].values.shape\n",
    "        #print(f\"shape = {shape}\")\n",
    "\n",
    "        X_test.append(group[columns_of_interest].values)\n",
    "\n",
    "    X_train = np.asarray(X_train)#, dtype=object)\n",
    "    X_test = np.asarray(X_test)#, dtype=object)\n",
    "    \n",
    "    print(np.shape(X_train))\n",
    "    print(np.shape(X_test))\n",
    "\n",
    "    print(np.shape(y_train))\n",
    "    print(np.shape(y_test))\n",
    "    \n",
    "    print(\"Data formatted.\")\n",
    "    return X_train, y_train, X_test, y_test"
   ]
  },
  {
   "cell_type": "code",
   "execution_count": 14,
   "id": "eeba980b",
   "metadata": {},
   "outputs": [],
   "source": [
    "def format_all_data(X_train_full, y_train_full):\n",
    "    # to be used when we only want a training set not test set\n",
    "    \n",
    "    print(\"Formating data...\")\n",
    "    # Keep only the classes of interest\n",
    "#     X_train_full = X_train_full[y_train_full['activity_type'].isin(class_labels.keys())]\n",
    "#     y_train_full = y_train_full[y_train_full['activity_type'].isin(class_labels.keys())]\n",
    "\n",
    "    # Create the y ones\n",
    "    y_train = y_train_full.groupby(\"window_id\")[['activity_type']].agg(np.min).replace(class_labels)['activity_type'].values\n",
    "    y_train = np.asarray(pd.get_dummies(y_train), dtype=np.float32)\n",
    "    \n",
    "    X_train = []\n",
    "\n",
    "    for window_id, group in X_train_full.groupby('window_id'):\n",
    "        #print(f\"window_id = {window_id}\")\n",
    "\n",
    "        shape = group[columns_of_interest].values.shape\n",
    "        #print(f\"shape = {shape}\")\n",
    "        if shape == (20,6):\n",
    "            X_train.append(group[columns_of_interest].values)\n",
    "\n",
    "    X_train = np.asarray(X_train)#, dtype=object)\n",
    "    \n",
    "    print(np.shape(X_train))\n",
    "    print(np.shape(y_train))\n",
    "    \n",
    "    print(\"Data formatted.\")\n",
    "    return X_train, y_train"
   ]
  },
  {
   "cell_type": "markdown",
   "id": "aaa6c042",
   "metadata": {},
   "source": [
    "### Accuracy of the subset"
   ]
  },
  {
   "cell_type": "code",
   "execution_count": 65,
   "id": "c368631d",
   "metadata": {},
   "outputs": [],
   "source": [
    " activity_groups = {\n",
    "     'Sitting/Standing': [0,1,2,3,12], # including desk work\n",
    "     'Lying': [4,5,6,7],\n",
    "     'Walking': [8,10,11,13], # I include up and down stairs in this one + movement\n",
    "     'Running': [9],\n",
    "     'Falling': [14,15,16,17]\n",
    " }"
   ]
  },
  {
   "cell_type": "code",
   "execution_count": 66,
   "id": "3eb29807",
   "metadata": {},
   "outputs": [],
   "source": [
    "def group_y(y):\n",
    "    grouped_y = []\n",
    "    for yy in y:\n",
    "        group = [i for i,v in enumerate(activity_groups.values()) if yy in v][0]\n",
    "        grouped_y.append(group)\n",
    "    return grouped_y"
   ]
  },
  {
   "cell_type": "markdown",
   "id": "ef6a9439",
   "metadata": {},
   "source": [
    "## Train a baseline model "
   ]
  },
  {
   "cell_type": "code",
   "execution_count": 148,
   "id": "8f946ca8",
   "metadata": {},
   "outputs": [],
   "source": [
    "# split data into training and test sets (split by subject)\n",
    "\n",
    "subjects = final_sliding_windows['subject_id'].unique()\n",
    "\n",
    "train_subjects, test_subjects = train_test_split(subjects, test_size=0.2, train_size=0.8)\n",
    "\n",
    "X_train_full = final_sliding_windows[final_sliding_windows['subject_id'].isin(train_subjects)][['window_id'] + columns_of_interest]\n",
    "y_train_full = final_sliding_windows[final_sliding_windows['subject_id'].isin(train_subjects)][['window_id'] + ['activity_type']]\n",
    "\n",
    "X_test_full = final_sliding_windows[final_sliding_windows['subject_id'].isin(test_subjects)][['window_id'] + columns_of_interest]\n",
    "y_test_full = final_sliding_windows[final_sliding_windows['subject_id'].isin(test_subjects)][['window_id'] + ['activity_type']]\n"
   ]
  },
  {
   "cell_type": "code",
   "execution_count": 149,
   "id": "f19d2674",
   "metadata": {},
   "outputs": [
    {
     "name": "stdout",
     "output_type": "stream",
     "text": [
      "Formating data...\n",
      "(23929, 20, 6)\n",
      "(6338, 20, 6)\n",
      "(23929, 18)\n",
      "(6338, 18)\n",
      "Data formatted.\n",
      "Prepping CNN...\n",
      "CNN prepped.\n"
     ]
    }
   ],
   "source": [
    "# format the data\n",
    "X_train, y_train, X_test, y_test = format_data(X_train_full, y_train_full, X_test_full, y_test_full)\n",
    "   \n",
    "# prepare the CNN\n",
    "model = prep_cnn()"
   ]
  },
  {
   "cell_type": "code",
   "execution_count": 150,
   "id": "1db80ca7",
   "metadata": {},
   "outputs": [
    {
     "name": "stdout",
     "output_type": "stream",
     "text": [
      "Epoch 1/10\n",
      "240/240 [==============================] - 12s 43ms/step - loss: 2.0602 - accuracy: 0.2836\n",
      "Epoch 2/10\n",
      "240/240 [==============================] - 9s 36ms/step - loss: 1.2130 - accuracy: 0.5784\n",
      "Epoch 3/10\n",
      "240/240 [==============================] - 10s 40ms/step - loss: 1.0430 - accuracy: 0.6206\n",
      "Epoch 4/10\n",
      "240/240 [==============================] - 8s 35ms/step - loss: 0.9653 - accuracy: 0.6428\n",
      "Epoch 5/10\n",
      "240/240 [==============================] - 8s 32ms/step - loss: 0.8926 - accuracy: 0.6702\n",
      "Epoch 6/10\n",
      "240/240 [==============================] - 8s 34ms/step - loss: 0.8387 - accuracy: 0.6867\n",
      "Epoch 7/10\n",
      "240/240 [==============================] - 8s 35ms/step - loss: 0.8158 - accuracy: 0.6900\n",
      "Epoch 8/10\n",
      "240/240 [==============================] - 8s 35ms/step - loss: 0.7667 - accuracy: 0.7070\n",
      "Epoch 9/10\n",
      "240/240 [==============================] - 8s 35ms/step - loss: 0.7314 - accuracy: 0.7219\n",
      "Epoch 10/10\n",
      "240/240 [==============================] - 8s 34ms/step - loss: 0.7164 - accuracy: 0.7217\n"
     ]
    },
    {
     "data": {
      "text/plain": [
       "<tensorflow.python.keras.callbacks.History at 0x7fcb35997710>"
      ]
     },
     "execution_count": 150,
     "metadata": {},
     "output_type": "execute_result"
    }
   ],
   "source": [
    "# train the model \n",
    "model.fit(X_train, y_train, batch_size=100, epochs=10)"
   ]
  },
  {
   "cell_type": "code",
   "execution_count": 151,
   "id": "99f4ff12",
   "metadata": {},
   "outputs": [],
   "source": [
    "# test the model\n",
    "y_pred_ohe = model.predict(X_test)\n",
    "y_pred_labels = np.argmax(y_pred_ohe, axis=1)\n",
    "y_true_labels = np.argmax(y_test, axis=1)"
   ]
  },
  {
   "cell_type": "code",
   "execution_count": 152,
   "id": "48508f7d",
   "metadata": {},
   "outputs": [
    {
     "name": "stdout",
     "output_type": "stream",
     "text": [
      "********************************************************************************\n",
      "Classification report\n",
      "********************************************************************************\n",
      "              precision    recall  f1-score   support\n",
      "\n",
      "           0       0.00      0.00      0.00       377\n",
      "           1       0.24      0.56      0.33       340\n",
      "           2       1.00      0.11      0.20       344\n",
      "           3       0.90      0.89      0.90       344\n",
      "           4       0.80      0.89      0.84       355\n",
      "           5       0.70      0.78      0.74       340\n",
      "           6       0.99      0.90      0.95       383\n",
      "           7       0.54      0.61      0.57       368\n",
      "           8       0.79      0.73      0.76       378\n",
      "           9       0.93      0.86      0.90       377\n",
      "          10       0.78      0.74      0.76       373\n",
      "          11       0.72      0.73      0.73       368\n",
      "          12       0.26      0.21      0.23       348\n",
      "          13       0.50      0.62      0.55       385\n",
      "          14       0.68      0.73      0.70       304\n",
      "          15       0.67      0.72      0.69       317\n",
      "          16       0.72      0.66      0.69       319\n",
      "          17       0.72      0.58      0.64       318\n",
      "\n",
      "    accuracy                           0.63      6338\n",
      "   macro avg       0.66      0.63      0.62      6338\n",
      "weighted avg       0.66      0.63      0.62      6338\n",
      "\n"
     ]
    }
   ],
   "source": [
    "print(\"*\" * 80)\n",
    "print(\"Classification report\")\n",
    "print(\"*\" * 80)\n",
    "print(classification_report(y_true_labels, y_pred_labels))"
   ]
  },
  {
   "cell_type": "code",
   "execution_count": 153,
   "id": "3a538d01",
   "metadata": {},
   "outputs": [],
   "source": [
    "confusion_matrix = tf.math.confusion_matrix(\n",
    "    y_true_labels, y_pred_labels, num_classes=None, weights=None, dtype=tf.dtypes.int32,\n",
    "    name=None\n",
    ")"
   ]
  },
  {
   "cell_type": "code",
   "execution_count": 154,
   "id": "d40b39d2",
   "metadata": {},
   "outputs": [
    {
     "data": {
      "text/plain": [
       "<AxesSubplot:>"
      ]
     },
     "execution_count": 154,
     "metadata": {},
     "output_type": "execute_result"
    },
    {
     "data": {
      "image/png": "[encoded data removed]",
      "text/plain": [
       "<Figure size 432x288 with 2 Axes>"
      ]
     },
     "metadata": {
      "needs_background": "light"
     },
     "output_type": "display_data"
    }
   ],
   "source": [
    "sns.heatmap(confusion_matrix, annot=True, xticklabels=class_labels.keys(), yticklabels=class_labels.keys())"
   ]
  },
  {
   "cell_type": "code",
   "execution_count": 155,
   "id": "c8cfb1ca",
   "metadata": {},
   "outputs": [
    {
     "name": "stdout",
     "output_type": "stream",
     "text": [
      "********************************************************************************\n",
      "Classification report\n",
      "********************************************************************************\n",
      "              precision    recall  f1-score   support\n",
      "\n",
      "           0       0.90      0.87      0.89      1753\n",
      "           1       0.85      0.90      0.87      1446\n",
      "           2       0.90      0.93      0.92      1504\n",
      "           3       0.93      0.86      0.90       377\n",
      "           4       0.91      0.88      0.90      1258\n",
      "\n",
      "    accuracy                           0.89      6338\n",
      "   macro avg       0.90      0.89      0.89      6338\n",
      "weighted avg       0.89      0.89      0.89      6338\n",
      "\n"
     ]
    }
   ],
   "source": [
    "# compute accuracy of the subset of activities \n",
    "\n",
    "grouped_y_true_labels = group_y(y_true_labels)\n",
    "grouped_y_pred_labels = group_y(y_pred_labels)\n",
    "\n",
    "print(\"*\" * 80)\n",
    "print(\"Classification report\")\n",
    "print(\"*\" * 80)\n",
    "print(classification_report(grouped_y_true_labels, grouped_y_pred_labels))"
   ]
  },
  {
   "cell_type": "markdown",
   "id": "9adb5361",
   "metadata": {},
   "source": [
    "## Train baseline model on ALL data"
   ]
  },
  {
   "cell_type": "code",
   "execution_count": 161,
   "id": "d572e913",
   "metadata": {},
   "outputs": [
    {
     "name": "stdout",
     "output_type": "stream",
     "text": [
      "Formating data...\n",
      "(30267, 20, 6)\n",
      "(30267, 18)\n",
      "Data formatted.\n",
      "Prepping CNN...\n",
      "CNN prepped.\n"
     ]
    }
   ],
   "source": [
    "X = final_sliding_windows[['window_id'] + columns_of_interest]\n",
    "y = final_sliding_windows[['window_id'] + ['activity_type']]\n",
    "\n",
    "# format the data\n",
    "X_train, y_train = format_all_data(X, y)\n",
    "   \n",
    "# prepare the CNN\n",
    "model = prep_cnn()"
   ]
  },
  {
   "cell_type": "code",
   "execution_count": 162,
   "id": "4db57b6f",
   "metadata": {
    "scrolled": true
   },
   "outputs": [
    {
     "name": "stdout",
     "output_type": "stream",
     "text": [
      "Epoch 1/10\n",
      "303/303 [==============================] - 12s 33ms/step - loss: 1.9613 - accuracy: 0.3178\n",
      "Epoch 2/10\n",
      "303/303 [==============================] - 10s 33ms/step - loss: 1.1631 - accuracy: 0.5905\n",
      "Epoch 3/10\n",
      "303/303 [==============================] - 10s 34ms/step - loss: 1.0183 - accuracy: 0.6290\n",
      "Epoch 4/10\n",
      "303/303 [==============================] - 11s 37ms/step - loss: 0.9227 - accuracy: 0.6596\n",
      "Epoch 5/10\n",
      "303/303 [==============================] - 10s 34ms/step - loss: 0.8764 - accuracy: 0.6773\n",
      "Epoch 6/10\n",
      "303/303 [==============================] - 10s 32ms/step - loss: 0.8198 - accuracy: 0.6862\n",
      "Epoch 7/10\n",
      "303/303 [==============================] - 10s 34ms/step - loss: 0.7854 - accuracy: 0.7047\n",
      "Epoch 8/10\n",
      "303/303 [==============================] - 10s 32ms/step - loss: 0.7692 - accuracy: 0.7105\n",
      "Epoch 9/10\n",
      "303/303 [==============================] - 10s 33ms/step - loss: 0.7403 - accuracy: 0.7200\n",
      "Epoch 10/10\n",
      "303/303 [==============================] - 10s 34ms/step - loss: 0.7064 - accuracy: 0.7331\n"
     ]
    },
    {
     "data": {
      "text/plain": [
       "<tensorflow.python.keras.callbacks.History at 0x7fcb223cda90>"
      ]
     },
     "execution_count": 162,
     "metadata": {},
     "output_type": "execute_result"
    }
   ],
   "source": [
    "# train the model \n",
    "model.fit(X_train, y_train, batch_size=100, epochs=10)"
   ]
  },
  {
   "cell_type": "markdown",
   "id": "10b6527e",
   "metadata": {},
   "source": [
    "## Leave-One-Subject-Out Cross Validation"
   ]
  },
  {
   "cell_type": "code",
   "execution_count": 58,
   "id": "f13f4b65",
   "metadata": {},
   "outputs": [
    {
     "data": {
      "text/plain": [
       "6"
      ]
     },
     "execution_count": 58,
     "metadata": {},
     "output_type": "execute_result"
    }
   ],
   "source": [
    "loocv = LeaveOneGroupOut()\n",
    "\n",
    "# # UNCOMMENT TO LEAVE ONE SUBJECT OUT####\n",
    "# # group by subject id so that one subject is left out each time\n",
    "# groups = final_sliding_windows['subject_id']\n",
    "# ########################################\n",
    "\n",
    "# UNCOMMENT TO LEAVE (48 / N) SUBJECTS OUT####\n",
    "# n must be a factor of 48 (there are 48 subjects in the dataset)\n",
    "n = 6\n",
    "subj_group_mapping = {}\n",
    "for i, subj_id in enumerate(final_sliding_windows['subject_id'].unique()):\n",
    "    subj_group_mapping[subj_id] = i % n\n",
    "groups = [ subj_group_mapping[subj_id] for subj_id in final_sliding_windows['subject_id'] ]\n",
    "########################################\n",
    "\n",
    "X = final_sliding_windows[['window_id'] + columns_of_interest]\n",
    "y = final_sliding_windows[['window_id'] + ['activity_type']]\n",
    "\n",
    "# how many different subjects\n",
    "loocv.get_n_splits(X, y, groups)"
   ]
  },
  {
   "cell_type": "code",
   "execution_count": 59,
   "id": "81dd8e3c",
   "metadata": {},
   "outputs": [
    {
     "name": "stdout",
     "output_type": "stream",
     "text": [
      "Starting iteration 0\n",
      "Formating data...\n",
      "(25182, 20, 6)\n",
      "(5085, 20, 6)\n",
      "(25182, 18)\n",
      "(5085, 18)\n",
      "Data formatted.\n",
      "Prepping CNN...\n"
     ]
    },
    {
     "name": "stderr",
     "output_type": "stream",
     "text": [
      "2021-11-09 20:14:17.210828: I tensorflow/compiler/jit/xla_cpu_device.cc:41] Not creating XLA devices, tf_xla_enable_xla_devices not set\n",
      "2021-11-09 20:14:17.222091: I tensorflow/core/platform/cpu_feature_guard.cc:142] This TensorFlow binary is optimized with oneAPI Deep Neural Network Library (oneDNN) to use the following CPU instructions in performance-critical operations:  SSE4.1 SSE4.2 AVX AVX2 FMA\n",
      "To enable them in other operations, rebuild TensorFlow with the appropriate compiler flags.\n",
      "2021-11-09 20:14:17.227082: I tensorflow/core/common_runtime/process_util.cc:146] Creating new thread pool with default inter op setting: 2. Tune using inter_op_parallelism_threads for best performance.\n"
     ]
    },
    {
     "name": "stdout",
     "output_type": "stream",
     "text": [
      "CNN prepped.\n",
      "Training...\n"
     ]
    },
    {
     "name": "stderr",
     "output_type": "stream",
     "text": [
      "2021-11-09 20:14:17.802206: I tensorflow/compiler/mlir/mlir_graph_optimization_pass.cc:116] None of the MLIR optimization passes are enabled (registered 2)\n",
      "2021-11-09 20:14:17.830328: I tensorflow/core/platform/profile_utils/cpu_utils.cc:112] CPU Frequency: 2099940000 Hz\n"
     ]
    },
    {
     "name": "stdout",
     "output_type": "stream",
     "text": [
      "Epoch 1/3\n",
      "252/252 [==============================] - 11s 36ms/step - loss: 2.0239 - accuracy: 0.3013\n",
      "Epoch 2/3\n",
      "252/252 [==============================] - 9s 35ms/step - loss: 1.2046 - accuracy: 0.5722\n",
      "Epoch 3/3\n",
      "252/252 [==============================] - 10s 39ms/step - loss: 1.0370 - accuracy: 0.6276\n",
      "(5085,)\n",
      "(5085,)\n",
      "Starting iteration 1\n",
      "Formating data...\n",
      "(25100, 20, 6)\n",
      "(5167, 20, 6)\n",
      "(25100, 18)\n",
      "(5167, 18)\n",
      "Data formatted.\n",
      "Prepping CNN...\n",
      "CNN prepped.\n",
      "Training...\n",
      "Epoch 1/3\n",
      "251/251 [==============================] - 9s 30ms/step - loss: 2.0250 - accuracy: 0.2928\n",
      "Epoch 2/3\n",
      "251/251 [==============================] - 8s 31ms/step - loss: 1.2262 - accuracy: 0.5697\n",
      "Epoch 3/3\n",
      "251/251 [==============================] - 8s 33ms/step - loss: 1.0647 - accuracy: 0.6136\n",
      "(10252,)\n",
      "(10252,)\n",
      "Starting iteration 2\n",
      "Formating data...\n",
      "(25475, 20, 6)\n",
      "(4792, 20, 6)\n",
      "(25475, 18)\n",
      "(4792, 18)\n",
      "Data formatted.\n",
      "Prepping CNN...\n",
      "CNN prepped.\n",
      "Training...\n",
      "Epoch 1/3\n",
      "255/255 [==============================] - 10s 34ms/step - loss: 2.0336 - accuracy: 0.2935\n",
      "Epoch 2/3\n",
      "255/255 [==============================] - 11s 43ms/step - loss: 1.2051 - accuracy: 0.5786\n",
      "Epoch 3/3\n",
      "255/255 [==============================] - 12s 48ms/step - loss: 1.0477 - accuracy: 0.6248\n",
      "(15044,)\n",
      "(15044,)\n",
      "Starting iteration 3\n",
      "Formating data...\n",
      "(25594, 20, 6)\n",
      "(4673, 20, 6)\n",
      "(25594, 18)\n",
      "(4673, 18)\n",
      "Data formatted.\n",
      "Prepping CNN...\n",
      "CNN prepped.\n",
      "Training...\n",
      "Epoch 1/3\n",
      "256/256 [==============================] - 11s 37ms/step - loss: 2.0139 - accuracy: 0.2974\n",
      "Epoch 2/3\n",
      "256/256 [==============================] - 10s 38ms/step - loss: 1.1622 - accuracy: 0.5914\n",
      "Epoch 3/3\n",
      "256/256 [==============================] - 9s 35ms/step - loss: 1.0155 - accuracy: 0.6409\n",
      "(19717,)\n",
      "(19717,)\n",
      "Starting iteration 4\n",
      "Formating data...\n",
      "(25181, 20, 6)\n",
      "(5086, 20, 6)\n",
      "(25181, 18)\n",
      "(5086, 18)\n",
      "Data formatted.\n",
      "Prepping CNN...\n",
      "CNN prepped.\n",
      "Training...\n",
      "Epoch 1/3\n",
      "252/252 [==============================] - 12s 41ms/step - loss: 2.0108 - accuracy: 0.3022\n",
      "Epoch 2/3\n",
      "252/252 [==============================] - 11s 45ms/step - loss: 1.0650 - accuracy: 0.6082\n",
      "Epoch 3/3\n",
      "252/252 [==============================] - 9s 37ms/step - loss: 0.9303 - accuracy: 0.6496\n",
      "(24803,)\n",
      "(24803,)\n",
      "Starting iteration 5\n",
      "Formating data...\n",
      "(24803, 20, 6)\n",
      "(5464, 20, 6)\n",
      "(24803, 18)\n",
      "(5464, 18)\n",
      "Data formatted.\n",
      "Prepping CNN...\n",
      "CNN prepped.\n",
      "Training...\n",
      "Epoch 1/3\n",
      "249/249 [==============================] - 11s 36ms/step - loss: 2.0549 - accuracy: 0.2793\n",
      "Epoch 2/3\n",
      "249/249 [==============================] - 10s 41ms/step - loss: 1.2174 - accuracy: 0.5736\n",
      "Epoch 3/3\n",
      "249/249 [==============================] - 10s 41ms/step - loss: 1.0938 - accuracy: 0.6101\n",
      "(30267,)\n",
      "(30267,)\n",
      "********************************************************************************\n",
      "Classification report\n",
      "********************************************************************************\n",
      "              precision    recall  f1-score   support\n",
      "\n",
      "         0.0       0.14      0.05      0.07      1759\n",
      "         1.0       0.23      0.11      0.15      1756\n",
      "         2.0       0.32      0.57      0.41      1765\n",
      "         3.0       0.71      0.93      0.80      1763\n",
      "         4.0       0.77      0.82      0.79      1770\n",
      "         5.0       0.82      0.81      0.81      1756\n",
      "         6.0       0.81      0.89      0.85      1802\n",
      "         7.0       0.44      0.63      0.52      1785\n",
      "         8.0       0.64      0.65      0.64      1721\n",
      "         9.0       0.85      0.90      0.87      1717\n",
      "        10.0       0.70      0.60      0.64      1756\n",
      "        11.0       0.60      0.59      0.59      1744\n",
      "        12.0       0.14      0.08      0.10      1768\n",
      "        13.0       0.40      0.53      0.46      1766\n",
      "        14.0       0.62      0.46      0.53      1386\n",
      "        15.0       0.62      0.58      0.60      1414\n",
      "        16.0       0.66      0.62      0.64      1428\n",
      "        17.0       0.67      0.61      0.64      1411\n",
      "\n",
      "    accuracy                           0.58     30267\n",
      "   macro avg       0.56      0.58      0.56     30267\n",
      "weighted avg       0.56      0.58      0.56     30267\n",
      "\n"
     ]
    }
   ],
   "source": [
    "y_pred_labels = np.empty(shape=(0,))\n",
    "y_true_labels = np.empty(shape=(0,))\n",
    "\n",
    "# this gives a train/test split that leaves one subject out in each iteration\n",
    "for i, (train_index, test_index) in enumerate(loocv.split(X, y, groups)):\n",
    "    print(\"Starting iteration \" + str(i))\n",
    "    \n",
    "    X_train_full, X_test_full = X.iloc[train_index], X.iloc[test_index]\n",
    "    y_train_full, y_test_full = y.iloc[train_index], y.iloc[test_index]\n",
    "    \n",
    "    X_train, y_train, X_test, y_test = format_data(X_train_full, y_train_full, X_test_full, y_test_full)\n",
    "    \n",
    "    model = prep_cnn()\n",
    "    \n",
    "    print(\"Training...\")\n",
    "    # todo change no. epochs\n",
    "    model.fit(X_train, y_train, batch_size=100, epochs=3)\n",
    "    \n",
    "    # stats\n",
    "    y_pred_ohe = model.predict(X_test)\n",
    "    y_pred_labels = np.concatenate([y_pred_labels, np.argmax(y_pred_ohe, axis=1)])\n",
    "    y_true_labels = np.concatenate([y_true_labels, np.argmax(y_test, axis=1)])\n",
    "    \n",
    "    print(y_pred_labels.shape)\n",
    "    print(y_true_labels.shape)\n",
    "    \n",
    "print(\"*\" * 80)\n",
    "print(\"Classification report\")\n",
    "print(\"*\" * 80)\n",
    "print(classification_report(y_true_labels, y_pred_labels))\n",
    "    "
   ]
  },
  {
   "cell_type": "code",
   "execution_count": 60,
   "id": "28a4efdf",
   "metadata": {},
   "outputs": [],
   "source": [
    "confusion_matrix = tf.math.confusion_matrix(\n",
    "    y_true_labels, y_pred_labels, num_classes=None, weights=None, dtype=tf.dtypes.int32,\n",
    "    name=None\n",
    ")"
   ]
  },
  {
   "cell_type": "code",
   "execution_count": 61,
   "id": "049c2135",
   "metadata": {},
   "outputs": [
    {
     "data": {
      "text/plain": [
       "<AxesSubplot:>"
      ]
     },
     "execution_count": 61,
     "metadata": {},
     "output_type": "execute_result"
    },
    {
     "data": {
      "image/png": "[encoded data removed]",
      "text/plain": [
       "<Figure size 432x288 with 2 Axes>"
      ]
     },
     "metadata": {
      "needs_background": "light"
     },
     "output_type": "display_data"
    }
   ],
   "source": [
    "sns.heatmap(confusion_matrix, annot=True, xticklabels=class_labels.keys(), yticklabels=class_labels.keys())"
   ]
  },
  {
   "cell_type": "code",
   "execution_count": 67,
   "id": "d0c9ff99",
   "metadata": {},
   "outputs": [],
   "source": [
    "grouped_y_true_labels = group_y(y_true_labels)\n",
    "grouped_y_pred_labels = group_y(y_pred_labels)"
   ]
  },
  {
   "cell_type": "code",
   "execution_count": 68,
   "id": "3e769baa",
   "metadata": {},
   "outputs": [
    {
     "name": "stdout",
     "output_type": "stream",
     "text": [
      "********************************************************************************\n",
      "Classification report\n",
      "********************************************************************************\n",
      "              precision    recall  f1-score   support\n",
      "\n",
      "           0       0.87      0.80      0.83      8811\n",
      "           1       0.78      0.89      0.83      7113\n",
      "           2       0.84      0.88      0.86      6987\n",
      "           3       0.85      0.90      0.87      1717\n",
      "           4       0.87      0.77      0.81      5639\n",
      "\n",
      "    accuracy                           0.84     30267\n",
      "   macro avg       0.84      0.85      0.84     30267\n",
      "weighted avg       0.84      0.84      0.84     30267\n",
      "\n"
     ]
    }
   ],
   "source": [
    "print(\"*\" * 80)\n",
    "print(\"Classification report\")\n",
    "print(\"*\" * 80)\n",
    "print(classification_report(grouped_y_true_labels, grouped_y_pred_labels))"
   ]
  },
  {
   "cell_type": "markdown",
   "id": "c17abf43",
   "metadata": {},
   "source": [
    "### Save a test instance"
   ]
  },
  {
   "cell_type": "code",
   "execution_count": 41,
   "id": "2e22af1f",
   "metadata": {
    "scrolled": false
   },
   "outputs": [
    {
     "name": "stdout",
     "output_type": "stream",
     "text": [
      "[0. 0. 0. 0. 0. 0. 0. 0. 0. 0. 1. 0. 0. 0. 0. 0. 0. 0.]\n",
      "[0. 0. 0. 0. 0. 0. 0. 0. 0. 0. 1. 0. 0. 0. 0. 0. 0. 0.]\n",
      "[0. 0. 0. 0. 0. 0. 0. 0. 0. 0. 1. 0. 0. 0. 0. 0. 0. 0.]\n",
      "[0. 0. 0. 0. 0. 0. 0. 0. 0. 0. 1. 0. 0. 0. 0. 0. 0. 0.]\n",
      "[0. 0. 0. 0. 0. 0. 0. 0. 0. 0. 1. 0. 0. 0. 0. 0. 0. 0.]\n"
     ]
    }
   ],
   "source": [
    "for i in range(5):\n",
    "    print(y_test[i])\n",
    "    #np.savetxt('data/test_instance_window20_' + str(i) + '.txt', X_test[i])"
   ]
  },
  {
   "cell_type": "code",
   "execution_count": 42,
   "id": "4e3e8a50",
   "metadata": {},
   "outputs": [
    {
     "name": "stdout",
     "output_type": "stream",
     "text": [
      "[0. 0. 0. 0. 0. 0. 0. 0. 0. 0. 1. 0. 0. 0. 0. 0. 0. 0.]\n",
      "[0. 0. 0. 0. 0. 0. 0. 0. 0. 0. 1. 0. 0. 0. 0. 0. 0. 0.]\n",
      "[0. 0. 0. 0. 0. 0. 0. 0. 0. 0. 1. 0. 0. 0. 0. 0. 0. 0.]\n",
      "[0. 0. 0. 0. 0. 0. 0. 0. 0. 0. 1. 0. 0. 0. 0. 0. 0. 0.]\n",
      "[0. 0. 0. 0. 0. 0. 0. 0. 0. 0. 1. 0. 0. 0. 0. 0. 0. 0.]\n"
     ]
    }
   ],
   "source": [
    "for i in np.arange(15,20):\n",
    "    print(y_test[i])\n",
    "    np.savetxt('data/test_instance_window20_' + str(i) + '.txt', X_test[i])"
   ]
  },
  {
   "cell_type": "markdown",
   "id": "06e32c61",
   "metadata": {},
   "source": [
    "## Save to file and convert to tflite"
   ]
  },
  {
   "cell_type": "code",
   "execution_count": 123,
   "id": "6296f1d0",
   "metadata": {},
   "outputs": [
    {
     "name": "stdout",
     "output_type": "stream",
     "text": [
      "INFO:tensorflow:Assets written to: models\\cnn_simple_full_thingy\\assets\n"
     ]
    },
    {
     "data": {
      "text/plain": [
       "473324"
      ]
     },
     "execution_count": 123,
     "metadata": {},
     "output_type": "execute_result"
    }
   ],
   "source": [
    "# Saving the model to file\n",
    "model_name = 'cnn_simple_full_thingy'\n",
    "\n",
    "export_dir = 'models\\\\' + model_name\n",
    "tf.saved_model.save(model,export_dir)\n",
    "\n",
    "# Convert the saved tensorflow model to tensorflow lite\n",
    "converter = tf.lite.TFLiteConverter.from_saved_model(export_dir)\n",
    "tflite_model = converter.convert()\n",
    "\n",
    "# Save the tensorflow lite model to file\n",
    "import pathlib\n",
    "tflite_model_file = pathlib.Path('models/' + model_name + '.tflite')\n",
    "tflite_model_file.write_bytes(tflite_model)"
   ]
  },
  {
   "cell_type": "code",
   "execution_count": null,
   "id": "05e36fa4",
   "metadata": {},
   "outputs": [],
   "source": []
  },
  {
   "cell_type": "code",
   "execution_count": null,
   "id": "2ae54ca5",
   "metadata": {},
   "outputs": [],
   "source": []
  },
  {
   "cell_type": "code",
   "execution_count": null,
   "id": "3f5cb93a",
   "metadata": {},
   "outputs": [],
   "source": []
  },
  {
   "cell_type": "code",
   "execution_count": null,
   "id": "4dbe7f01",
   "metadata": {},
   "outputs": [],
   "source": []
  },
  {
   "cell_type": "code",
   "execution_count": null,
   "id": "56a2bf66",
   "metadata": {},
   "outputs": [],
   "source": []
  }
 ],
 "metadata": {
  "kernelspec": {
   "display_name": "Python 3 (ipykernel)",
   "language": "python",
   "name": "python3"
  },
  "language_info": {
   "codemirror_mode": {
    "name": "ipython",
    "version": 3
   },
   "file_extension": ".py",
   "mimetype": "text/x-python",
   "name": "python",
   "nbconvert_exporter": "python",
   "pygments_lexer": "ipython3",
   "version": "3.7.11"
  }
 },
 "nbformat": 4,
 "nbformat_minor": 5
}
