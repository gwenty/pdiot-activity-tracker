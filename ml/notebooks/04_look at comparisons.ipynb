{
 "cells": [
  {
   "cell_type": "code",
   "execution_count": 4,
   "id": "09903ccf",
   "metadata": {},
   "outputs": [],
   "source": [
    "import pandas as pd\n",
    "import os"
   ]
  },
  {
   "cell_type": "code",
   "execution_count": 2,
   "id": "e32c4ef1",
   "metadata": {},
   "outputs": [],
   "source": [
    "comparison_folder = 'models/comparisons/'"
   ]
  },
  {
   "cell_type": "code",
   "execution_count": 11,
   "id": "c31c6e6d",
   "metadata": {},
   "outputs": [
    {
     "name": "stdout",
     "output_type": "stream",
     "text": [
      "4 is try_cnn_lstm_parameter_search_respeck.csv\n",
      "4 is try_cnn_lstm_parameter_search_thingy.csv\n",
      "4 is try_lstm_parameter_search_respeck.csv\n",
      "4 is try_lstm_parameter_search_thingy.csv\n",
      "['try_cnn_lstm_parameter_search_respeck.csv', 'try_cnn_lstm_parameter_search_thingy.csv', 'try_lstm_parameter_search_respeck.csv', 'try_lstm_parameter_search_thingy.csv']\n"
     ]
    }
   ],
   "source": [
    "files = []\n",
    "i=0\n",
    "for f in os.listdir(comparison_folder):\n",
    "    if f[-1] == 'v':\n",
    "        print(str(i) + ' is ' + f)\n",
    "        files+=[f]\n",
    "        i+=1\n",
    "print(files)"
   ]
  },
  {
   "cell_type": "code",
   "execution_count": 23,
   "id": "6222f5e9",
   "metadata": {},
   "outputs": [],
   "source": [
    "df_cnn_lstm_respeck = pd.read_csv(comparison_folder + files[0])\n",
    "df_cnn_lstm_thingy = pd.read_csv(comparison_folder + files[1])\n",
    "df_lstm_respeck = pd.read_csv(comparison_folder + files[2])\n",
    "df_lstm_thingy =pd.read_csv(comparison_folder + files[3])"
   ]
  },
  {
   "cell_type": "code",
   "execution_count": 16,
   "id": "f14f9330",
   "metadata": {},
   "outputs": [
    {
     "data": {
      "text/html": [
       "<div>\n",
       "<style scoped>\n",
       "    .dataframe tbody tr th:only-of-type {\n",
       "        vertical-align: middle;\n",
       "    }\n",
       "\n",
       "    .dataframe tbody tr th {\n",
       "        vertical-align: top;\n",
       "    }\n",
       "\n",
       "    .dataframe thead th {\n",
       "        text-align: right;\n",
       "    }\n",
       "</style>\n",
       "<table border=\"1\" class=\"dataframe\">\n",
       "  <thead>\n",
       "    <tr style=\"text-align: right;\">\n",
       "      <th></th>\n",
       "      <th>Unnamed: 0</th>\n",
       "      <th>epochs</th>\n",
       "      <th>dropout</th>\n",
       "      <th>filters</th>\n",
       "      <th>kernels</th>\n",
       "      <th>lstm_unit</th>\n",
       "      <th>nn_units</th>\n",
       "      <th>batch_size</th>\n",
       "      <th>learning_rate</th>\n",
       "      <th>acc_mean</th>\n",
       "      <th>sacc_mean</th>\n",
       "    </tr>\n",
       "  </thead>\n",
       "  <tbody>\n",
       "    <tr>\n",
       "      <th>65</th>\n",
       "      <td>65</td>\n",
       "      <td>3</td>\n",
       "      <td>0.5</td>\n",
       "      <td>64</td>\n",
       "      <td>2</td>\n",
       "      <td>128</td>\n",
       "      <td>64</td>\n",
       "      <td>64</td>\n",
       "      <td>0.001</td>\n",
       "      <td>0.60205</td>\n",
       "      <td>0.876758</td>\n",
       "    </tr>\n",
       "  </tbody>\n",
       "</table>\n",
       "</div>"
      ],
      "text/plain": [
       "    Unnamed: 0  epochs  dropout  filters  kernels  lstm_unit  nn_units  \\\n",
       "65          65       3      0.5       64        2        128        64   \n",
       "\n",
       "    batch_size  learning_rate  acc_mean  sacc_mean  \n",
       "65          64          0.001   0.60205   0.876758  "
      ]
     },
     "execution_count": 16,
     "metadata": {},
     "output_type": "execute_result"
    }
   ],
   "source": [
    "# These are the same\n",
    "df_cnn_lstm_respeck[df_cnn_lstm_respeck['sacc_mean'] == df_cnn_lstm_respeck['sacc_mean'].max()]\n",
    "df_cnn_lstm_respeck[df_cnn_lstm_respeck['acc_mean'] == df_cnn_lstm_respeck['acc_mean'].max()]"
   ]
  },
  {
   "cell_type": "code",
   "execution_count": 27,
   "id": "2ddf927b",
   "metadata": {},
   "outputs": [
    {
     "data": {
      "text/html": [
       "<div>\n",
       "<style scoped>\n",
       "    .dataframe tbody tr th:only-of-type {\n",
       "        vertical-align: middle;\n",
       "    }\n",
       "\n",
       "    .dataframe tbody tr th {\n",
       "        vertical-align: top;\n",
       "    }\n",
       "\n",
       "    .dataframe thead th {\n",
       "        text-align: right;\n",
       "    }\n",
       "</style>\n",
       "<table border=\"1\" class=\"dataframe\">\n",
       "  <thead>\n",
       "    <tr style=\"text-align: right;\">\n",
       "      <th></th>\n",
       "      <th>Unnamed: 0</th>\n",
       "      <th>epochs</th>\n",
       "      <th>dropout</th>\n",
       "      <th>filters</th>\n",
       "      <th>kernels</th>\n",
       "      <th>lstm_unit</th>\n",
       "      <th>nn_units</th>\n",
       "      <th>batch_size</th>\n",
       "      <th>learning_rate</th>\n",
       "      <th>acc_mean</th>\n",
       "      <th>sacc_mean</th>\n",
       "    </tr>\n",
       "  </thead>\n",
       "  <tbody>\n",
       "    <tr>\n",
       "      <th>21</th>\n",
       "      <td>21</td>\n",
       "      <td>5</td>\n",
       "      <td>0.5</td>\n",
       "      <td>32</td>\n",
       "      <td>2</td>\n",
       "      <td>128</td>\n",
       "      <td>128</td>\n",
       "      <td>64</td>\n",
       "      <td>0.001</td>\n",
       "      <td>0.601877</td>\n",
       "      <td>0.844534</td>\n",
       "    </tr>\n",
       "  </tbody>\n",
       "</table>\n",
       "</div>"
      ],
      "text/plain": [
       "    Unnamed: 0  epochs  dropout  filters  kernels  lstm_unit  nn_units  \\\n",
       "21          21       5      0.5       32        2        128       128   \n",
       "\n",
       "    batch_size  learning_rate  acc_mean  sacc_mean  \n",
       "21          64          0.001  0.601877   0.844534  "
      ]
     },
     "execution_count": 27,
     "metadata": {},
     "output_type": "execute_result"
    }
   ],
   "source": [
    "# Not the same - use sacc_mean max\n",
    "df_cnn_lstm_thingy[df_cnn_lstm_thingy['acc_mean'] == df_cnn_lstm_thingy['acc_mean'].max()]\n"
   ]
  },
  {
   "cell_type": "code",
   "execution_count": 28,
   "id": "cebcb250",
   "metadata": {},
   "outputs": [
    {
     "data": {
      "text/html": [
       "<div>\n",
       "<style scoped>\n",
       "    .dataframe tbody tr th:only-of-type {\n",
       "        vertical-align: middle;\n",
       "    }\n",
       "\n",
       "    .dataframe tbody tr th {\n",
       "        vertical-align: top;\n",
       "    }\n",
       "\n",
       "    .dataframe thead th {\n",
       "        text-align: right;\n",
       "    }\n",
       "</style>\n",
       "<table border=\"1\" class=\"dataframe\">\n",
       "  <thead>\n",
       "    <tr style=\"text-align: right;\">\n",
       "      <th></th>\n",
       "      <th>Unnamed: 0</th>\n",
       "      <th>epochs</th>\n",
       "      <th>dropout</th>\n",
       "      <th>filters</th>\n",
       "      <th>kernels</th>\n",
       "      <th>lstm_unit</th>\n",
       "      <th>nn_units</th>\n",
       "      <th>batch_size</th>\n",
       "      <th>learning_rate</th>\n",
       "      <th>acc_mean</th>\n",
       "      <th>sacc_mean</th>\n",
       "    </tr>\n",
       "  </thead>\n",
       "  <tbody>\n",
       "    <tr>\n",
       "      <th>17</th>\n",
       "      <td>17</td>\n",
       "      <td>5</td>\n",
       "      <td>0.5</td>\n",
       "      <td>32</td>\n",
       "      <td>2</td>\n",
       "      <td>128</td>\n",
       "      <td>64</td>\n",
       "      <td>64</td>\n",
       "      <td>0.001</td>\n",
       "      <td>0.596132</td>\n",
       "      <td>0.849353</td>\n",
       "    </tr>\n",
       "  </tbody>\n",
       "</table>\n",
       "</div>"
      ],
      "text/plain": [
       "    Unnamed: 0  epochs  dropout  filters  kernels  lstm_unit  nn_units  \\\n",
       "17          17       5      0.5       32        2        128        64   \n",
       "\n",
       "    batch_size  learning_rate  acc_mean  sacc_mean  \n",
       "17          64          0.001  0.596132   0.849353  "
      ]
     },
     "execution_count": 28,
     "metadata": {},
     "output_type": "execute_result"
    }
   ],
   "source": [
    "df_cnn_lstm_thingy[df_cnn_lstm_thingy['sacc_mean'] == df_cnn_lstm_thingy['sacc_mean'].max()]"
   ]
  },
  {
   "cell_type": "code",
   "execution_count": 21,
   "id": "aa4fd0fd",
   "metadata": {},
   "outputs": [
    {
     "data": {
      "text/html": [
       "<div>\n",
       "<style scoped>\n",
       "    .dataframe tbody tr th:only-of-type {\n",
       "        vertical-align: middle;\n",
       "    }\n",
       "\n",
       "    .dataframe tbody tr th {\n",
       "        vertical-align: top;\n",
       "    }\n",
       "\n",
       "    .dataframe thead th {\n",
       "        text-align: right;\n",
       "    }\n",
       "</style>\n",
       "<table border=\"1\" class=\"dataframe\">\n",
       "  <thead>\n",
       "    <tr style=\"text-align: right;\">\n",
       "      <th></th>\n",
       "      <th>Unnamed: 0</th>\n",
       "      <th>epochs</th>\n",
       "      <th>dropout</th>\n",
       "      <th>lstm_unit</th>\n",
       "      <th>nn_units</th>\n",
       "      <th>batch_size</th>\n",
       "      <th>learning_rate</th>\n",
       "      <th>acc_mean</th>\n",
       "      <th>sacc_mean</th>\n",
       "    </tr>\n",
       "  </thead>\n",
       "  <tbody>\n",
       "    <tr>\n",
       "      <th>17</th>\n",
       "      <td>17</td>\n",
       "      <td>4</td>\n",
       "      <td>0.5</td>\n",
       "      <td>128</td>\n",
       "      <td>64</td>\n",
       "      <td>64</td>\n",
       "      <td>0.001</td>\n",
       "      <td>0.604433</td>\n",
       "      <td>0.879139</td>\n",
       "    </tr>\n",
       "  </tbody>\n",
       "</table>\n",
       "</div>"
      ],
      "text/plain": [
       "    Unnamed: 0  epochs  dropout  lstm_unit  nn_units  batch_size  \\\n",
       "17          17       4      0.5        128        64          64   \n",
       "\n",
       "    learning_rate  acc_mean  sacc_mean  \n",
       "17          0.001  0.604433   0.879139  "
      ]
     },
     "execution_count": 21,
     "metadata": {},
     "output_type": "execute_result"
    }
   ],
   "source": [
    "# These are the same\n",
    "df_lstm_respeck[df_lstm_respeck['acc_mean'] == df_lstm_respeck['acc_mean'].max()]\n",
    "df_lstm_respeck[df_lstm_respeck['sacc_mean'] == df_lstm_respeck['sacc_mean'].max()]"
   ]
  },
  {
   "cell_type": "code",
   "execution_count": 29,
   "id": "ff79957f",
   "metadata": {},
   "outputs": [
    {
     "data": {
      "text/html": [
       "<div>\n",
       "<style scoped>\n",
       "    .dataframe tbody tr th:only-of-type {\n",
       "        vertical-align: middle;\n",
       "    }\n",
       "\n",
       "    .dataframe tbody tr th {\n",
       "        vertical-align: top;\n",
       "    }\n",
       "\n",
       "    .dataframe thead th {\n",
       "        text-align: right;\n",
       "    }\n",
       "</style>\n",
       "<table border=\"1\" class=\"dataframe\">\n",
       "  <thead>\n",
       "    <tr style=\"text-align: right;\">\n",
       "      <th></th>\n",
       "      <th>Unnamed: 0</th>\n",
       "      <th>epochs</th>\n",
       "      <th>dropout</th>\n",
       "      <th>lstm_unit</th>\n",
       "      <th>nn_units</th>\n",
       "      <th>batch_size</th>\n",
       "      <th>learning_rate</th>\n",
       "      <th>acc_mean</th>\n",
       "      <th>sacc_mean</th>\n",
       "    </tr>\n",
       "  </thead>\n",
       "  <tbody>\n",
       "    <tr>\n",
       "      <th>19</th>\n",
       "      <td>19</td>\n",
       "      <td>5</td>\n",
       "      <td>0.5</td>\n",
       "      <td>128</td>\n",
       "      <td>64</td>\n",
       "      <td>128</td>\n",
       "      <td>0.001</td>\n",
       "      <td>0.564963</td>\n",
       "      <td>0.831814</td>\n",
       "    </tr>\n",
       "  </tbody>\n",
       "</table>\n",
       "</div>"
      ],
      "text/plain": [
       "    Unnamed: 0  epochs  dropout  lstm_unit  nn_units  batch_size  \\\n",
       "19          19       5      0.5        128        64         128   \n",
       "\n",
       "    learning_rate  acc_mean  sacc_mean  \n",
       "19          0.001  0.564963   0.831814  "
      ]
     },
     "execution_count": 29,
     "metadata": {},
     "output_type": "execute_result"
    }
   ],
   "source": [
    "# Different - use acc_mean max\n",
    "df_lstm_thingy[df_lstm_thingy['sacc_mean'] == df_lstm_thingy['sacc_mean'].max()]\n"
   ]
  },
  {
   "cell_type": "code",
   "execution_count": 30,
   "id": "5f43a75a",
   "metadata": {},
   "outputs": [
    {
     "data": {
      "text/html": [
       "<div>\n",
       "<style scoped>\n",
       "    .dataframe tbody tr th:only-of-type {\n",
       "        vertical-align: middle;\n",
       "    }\n",
       "\n",
       "    .dataframe tbody tr th {\n",
       "        vertical-align: top;\n",
       "    }\n",
       "\n",
       "    .dataframe thead th {\n",
       "        text-align: right;\n",
       "    }\n",
       "</style>\n",
       "<table border=\"1\" class=\"dataframe\">\n",
       "  <thead>\n",
       "    <tr style=\"text-align: right;\">\n",
       "      <th></th>\n",
       "      <th>Unnamed: 0</th>\n",
       "      <th>epochs</th>\n",
       "      <th>dropout</th>\n",
       "      <th>lstm_unit</th>\n",
       "      <th>nn_units</th>\n",
       "      <th>batch_size</th>\n",
       "      <th>learning_rate</th>\n",
       "      <th>acc_mean</th>\n",
       "      <th>sacc_mean</th>\n",
       "    </tr>\n",
       "  </thead>\n",
       "  <tbody>\n",
       "    <tr>\n",
       "      <th>21</th>\n",
       "      <td>21</td>\n",
       "      <td>5</td>\n",
       "      <td>0.5</td>\n",
       "      <td>128</td>\n",
       "      <td>128</td>\n",
       "      <td>64</td>\n",
       "      <td>0.001</td>\n",
       "      <td>0.569698</td>\n",
       "      <td>0.829314</td>\n",
       "    </tr>\n",
       "  </tbody>\n",
       "</table>\n",
       "</div>"
      ],
      "text/plain": [
       "    Unnamed: 0  epochs  dropout  lstm_unit  nn_units  batch_size  \\\n",
       "21          21       5      0.5        128       128          64   \n",
       "\n",
       "    learning_rate  acc_mean  sacc_mean  \n",
       "21          0.001  0.569698   0.829314  "
      ]
     },
     "execution_count": 30,
     "metadata": {},
     "output_type": "execute_result"
    }
   ],
   "source": [
    "df_lstm_thingy[df_lstm_thingy['acc_mean'] == df_lstm_thingy['acc_mean'].max()]"
   ]
  },
  {
   "cell_type": "code",
   "execution_count": null,
   "id": "edeab2b8",
   "metadata": {},
   "outputs": [],
   "source": []
  },
  {
   "cell_type": "code",
   "execution_count": 1,
   "id": "651e0ecf",
   "metadata": {},
   "outputs": [],
   "source": [
    "from tensorflow import keras\n",
    "model = keras.models.load_model('models/try_cnn_lstm_thingy_tf24')"
   ]
  },
  {
   "cell_type": "code",
   "execution_count": 2,
   "id": "3d3cb87f",
   "metadata": {},
   "outputs": [
    {
     "name": "stdout",
     "output_type": "stream",
     "text": [
      "Model: \"sequential\"\n",
      "_________________________________________________________________\n",
      "Layer (type)                 Output Shape              Param #   \n",
      "=================================================================\n",
      "conv1d (Conv1D)              (None, 24, 32)            416       \n",
      "_________________________________________________________________\n",
      "max_pooling1d (MaxPooling1D) (None, 12, 32)            0         \n",
      "_________________________________________________________________\n",
      "conv1d_1 (Conv1D)            (None, 11, 32)            2080      \n",
      "_________________________________________________________________\n",
      "max_pooling1d_1 (MaxPooling1 (None, 5, 32)             0         \n",
      "_________________________________________________________________\n",
      "bidirectional (Bidirectional (None, 256)               164864    \n",
      "_________________________________________________________________\n",
      "flatten (Flatten)            (None, 256)               0         \n",
      "_________________________________________________________________\n",
      "dropout (Dropout)            (None, 256)               0         \n",
      "_________________________________________________________________\n",
      "dense (Dense)                (None, 64)                16448     \n",
      "_________________________________________________________________\n",
      "dense_1 (Dense)              (None, 18)                1170      \n",
      "=================================================================\n",
      "Total params: 184,978\n",
      "Trainable params: 184,978\n",
      "Non-trainable params: 0\n",
      "_________________________________________________________________\n"
     ]
    }
   ],
   "source": [
    "model.summary()"
   ]
  },
  {
   "cell_type": "code",
   "execution_count": 18,
   "id": "1abbd409",
   "metadata": {},
   "outputs": [
    {
     "data": {
      "text/plain": [
       "(18,)"
      ]
     },
     "execution_count": 18,
     "metadata": {},
     "output_type": "execute_result"
    }
   ],
   "source": [
    "import numpy as np\n",
    "np.concatenate([np.ones(1), np.zeros(17)]).shape"
   ]
  },
  {
   "cell_type": "code",
   "execution_count": null,
   "id": "796a5fde",
   "metadata": {},
   "outputs": [],
   "source": []
  }
 ],
 "metadata": {
  "kernelspec": {
   "display_name": "Python 3 (ipykernel)",
   "language": "python",
   "name": "python3"
  },
  "language_info": {
   "codemirror_mode": {
    "name": "ipython",
    "version": 3
   },
   "file_extension": ".py",
   "mimetype": "text/x-python",
   "name": "python",
   "nbconvert_exporter": "python",
   "pygments_lexer": "ipython3",
   "version": "3.7.10"
  }
 },
 "nbformat": 4,
 "nbformat_minor": 5
}
