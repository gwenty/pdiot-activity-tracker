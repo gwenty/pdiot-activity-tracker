{
 "cells": [
  {
   "cell_type": "code",
   "execution_count": 1,
   "id": "4560f333",
   "metadata": {},
   "outputs": [],
   "source": [
    "import pandas as pd\n",
    "import numpy as np\n",
    "import os\n",
    "import tsfresh\n",
    "from sklearn.model_selection import train_test_split\n",
    "from sklearn.ensemble import RandomForestClassifier\n",
    "from sklearn.metrics import classification_report\n",
    "import tensorflow as tf\n",
    "\n",
    "import os\n",
    "\n",
    "import matplotlib.pyplot as plt\n",
    "\n",
    "# keras goodies\n",
    "from tensorflow.keras.models import Sequential\n",
    "from tensorflow.keras.layers import Dense, Activation, Flatten, Conv1D, Dropout, MaxPooling1D, BatchNormalization\n",
    "from tensorflow.keras import optimizers\n",
    "from tensorflow.keras import regularizers\n",
    "from tensorflow.keras import metrics as kmetrics\n",
    "import tensorflow.keras.backend as K"
   ]
  },
  {
   "cell_type": "markdown",
   "id": "f8f0e2ca",
   "metadata": {},
   "source": [
    "## Getting the data"
   ]
  },
  {
   "cell_type": "code",
   "execution_count": 3,
   "id": "355a2799",
   "metadata": {},
   "outputs": [],
   "source": [
    "data_path = '../data/'"
   ]
  },
  {
   "cell_type": "code",
   "execution_count": 4,
   "id": "a08589ff",
   "metadata": {},
   "outputs": [],
   "source": [
    "final_sliding_windows = pd.read_csv(data_path + '/sliding_windows_smallest20_size20_step20.csv')"
   ]
  },
  {
   "cell_type": "code",
   "execution_count": 5,
   "id": "3a4935ff",
   "metadata": {},
   "outputs": [
    {
     "data": {
      "image/png": "[encoded data removed]",
      "text/plain": [
       "<Figure size 432x288 with 1 Axes>"
      ]
     },
     "metadata": {
      "needs_background": "light"
     },
     "output_type": "display_data"
    }
   ],
   "source": [
    "def plot_by_id(df, i): \n",
    "    plot_recording = df[df['recording_id'] == i]\n",
    "    plot_recording = plot_recording.reset_index()\n",
    "    plt.plot(plot_recording.index, plot_recording['accel_x'])\n",
    "    plt.plot(plot_recording.index, plot_recording['accel_y'])\n",
    "    plt.plot(plot_recording.index, plot_recording['accel_z'])\n",
    "    \n",
    "plot_by_id(final_sliding_windows, 'Respeck_s1865457_Falling on the back_30-09-2021_11-53-32')"
   ]
  },
  {
   "cell_type": "markdown",
   "id": "20b1ef0d",
   "metadata": {},
   "source": [
    "## Split into training and test sets\n",
    "\n",
    "Make sure to split by subject!"
   ]
  },
  {
   "cell_type": "code",
   "execution_count": 6,
   "id": "473d2fb2",
   "metadata": {},
   "outputs": [],
   "source": [
    "columns_of_interest = ['accel_x', 'accel_y', 'accel_z', 'gyro_x', 'gyro_y', 'gyro_z']"
   ]
  },
  {
   "cell_type": "code",
   "execution_count": 7,
   "id": "b085f81b",
   "metadata": {},
   "outputs": [],
   "source": [
    "# Simple for now\n",
    "subjects = final_sliding_windows['subject_id'].unique()\n",
    "\n",
    "train_subjects, test_subjects = train_test_split(subjects, test_size=0.2, train_size=0.8)\n",
    "\n",
    "X_train_full = final_sliding_windows[final_sliding_windows['subject_id'].isin(train_subjects)][['window_id'] + columns_of_interest]\n",
    "y_train_full = final_sliding_windows[final_sliding_windows['subject_id'].isin(train_subjects)][['window_id'] + ['activity_type']]\n",
    "\n",
    "X_test_full = final_sliding_windows[final_sliding_windows['subject_id'].isin(test_subjects)][['window_id'] + columns_of_interest]\n",
    "y_test_full = final_sliding_windows[final_sliding_windows['subject_id'].isin(test_subjects)][['window_id'] + ['activity_type']]\n"
   ]
  },
  {
   "cell_type": "markdown",
   "id": "f96f4fb0",
   "metadata": {},
   "source": [
    "## Format the input"
   ]
  },
  {
   "cell_type": "markdown",
   "id": "fbaae606",
   "metadata": {},
   "source": [
    "Format data into windows - make (50,6) inputs"
   ]
  },
  {
   "cell_type": "code",
   "execution_count": 8,
   "id": "c6fbc52b",
   "metadata": {},
   "outputs": [],
   "source": [
    "class_labels = {\n",
    "    'Sitting': 0,\n",
    "    'Sitting bent forward': 1,\n",
    "    'Sitting bent backward': 2,\n",
    "    'Standing': 3,\n",
    "    'Lying down left': 4,\n",
    "    'Lying down right': 5,\n",
    "    'Lying down on stomach': 6,\n",
    "    'Lying down on back': 7,\n",
    "    'Walking at normal speed': 8,\n",
    "    'Running': 9,\n",
    "    'Climbing stairs': 10,\n",
    "    'Descending stairs': 11,\n",
    "    'Desk work': 12,\n",
    "    'Movement': 13,\n",
    "    'Falling on knees': 14,\n",
    "    'Falling on the back': 15,\n",
    "    'Falling on the left': 16,\n",
    "    'Falling on the right': 17\n",
    "}"
   ]
  },
  {
   "cell_type": "code",
   "execution_count": 8,
   "id": "b31b39f7",
   "metadata": {},
   "outputs": [],
   "source": [
    "class_labels = {\n",
    "    'Standing': 0,\n",
    "    'Walking at normal speed': 1\n",
    "}"
   ]
  },
  {
   "cell_type": "code",
   "execution_count": 9,
   "id": "ee78afe6",
   "metadata": {},
   "outputs": [],
   "source": [
    "# Keep only the classes of interest\n",
    "X_train_full = X_train_full[y_train_full['activity_type'].isin(class_labels.keys())]\n",
    "X_test_full = X_test_full[y_test_full['activity_type'].isin(class_labels.keys())]\n",
    "y_train_full = y_train_full[y_train_full['activity_type'].isin(class_labels.keys())]\n",
    "y_test_full = y_test_full[y_test_full['activity_type'].isin(class_labels.keys())]\n",
    "\n",
    "# Create the y ones\n",
    "y_train = y_train_full.groupby(\"window_id\")[['activity_type']].agg(np.min).replace(class_labels)['activity_type'].values\n",
    "y_test = y_test_full.groupby(\"window_id\")[['activity_type']].agg(np.min).replace(class_labels)['activity_type'].values\n",
    "\n",
    "y_train = np.asarray(pd.get_dummies(y_train), dtype=np.float32)\n",
    "y_test = np.asarray(pd.get_dummies(y_test), dtype=np.float32)"
   ]
  },
  {
   "cell_type": "code",
   "execution_count": 10,
   "id": "ee97a887",
   "metadata": {},
   "outputs": [],
   "source": [
    "X_train = []\n",
    "X_test = []\n",
    "    \n",
    "for window_id, group in X_train_full.groupby('window_id'):\n",
    "    #print(f\"window_id = {window_id}\")\n",
    "    \n",
    "    shape = group[columns_of_interest].values.shape\n",
    "    #print(f\"shape = {shape}\")\n",
    "    if shape == (20,6):\n",
    "        X_train.append(group[columns_of_interest].values)\n",
    "    \n",
    "for window_id, group in X_test_full.groupby('window_id'):\n",
    "    #print(f\"window_id = {window_id}\")\n",
    "    \n",
    "    shape = group[columns_of_interest].values.shape\n",
    "    #print(f\"shape = {shape}\")\n",
    "    \n",
    "    X_test.append(group[columns_of_interest].values)\n",
    "    \n",
    "X_train = np.asarray(X_train)#, dtype=object)\n",
    "X_test = np.asarray(X_test)#, dtype=object)"
   ]
  },
  {
   "cell_type": "code",
   "execution_count": 12,
   "id": "e96ed899",
   "metadata": {},
   "outputs": [
    {
     "name": "stdout",
     "output_type": "stream",
     "text": [
      "(22832, 20, 6)\n",
      "(6167, 20, 6)\n",
      "(22832, 18)\n",
      "(6167, 18)\n"
     ]
    }
   ],
   "source": [
    "print(np.shape(X_train))\n",
    "print(np.shape(X_test))\n",
    "\n",
    "print(np.shape(y_train))\n",
    "print(np.shape(y_test))"
   ]
  },
  {
   "cell_type": "markdown",
   "id": "d40a9bf3",
   "metadata": {},
   "source": [
    "## Prepping the model"
   ]
  },
  {
   "cell_type": "code",
   "execution_count": 75,
   "id": "8eefa967",
   "metadata": {},
   "outputs": [],
   "source": [
    "filters = 64\n",
    "kernel_size = 3\n",
    "n_features = 6\n",
    "activation ='relu'\n",
    "n_classes = len(class_labels)\n",
    "window_size = 20\n",
    "#filters = [3, 7, 11]"
   ]
  },
  {
   "cell_type": "code",
   "execution_count": 76,
   "id": "312a21a3",
   "metadata": {},
   "outputs": [
    {
     "name": "stdout",
     "output_type": "stream",
     "text": [
      "Model: \"sequential_5\"\n",
      "_________________________________________________________________\n",
      "Layer (type)                 Output Shape              Param #   \n",
      "=================================================================\n",
      "conv1d_13 (Conv1D)           (None, 18, 64)            1216      \n",
      "_________________________________________________________________\n",
      "batch_normalization_13 (Batc (None, 18, 64)            256       \n",
      "_________________________________________________________________\n",
      "activation_12 (Activation)   (None, 18, 64)            0         \n",
      "_________________________________________________________________\n",
      "conv1d_14 (Conv1D)           (None, 16, 64)            12352     \n",
      "_________________________________________________________________\n",
      "batch_normalization_14 (Batc (None, 16, 64)            256       \n",
      "_________________________________________________________________\n",
      "activation_13 (Activation)   (None, 16, 64)            0         \n",
      "_________________________________________________________________\n",
      "conv1d_15 (Conv1D)           (None, 14, 64)            12352     \n",
      "_________________________________________________________________\n",
      "batch_normalization_15 (Batc (None, 14, 64)            256       \n",
      "_________________________________________________________________\n",
      "activation_14 (Activation)   (None, 14, 64)            0         \n",
      "_________________________________________________________________\n",
      "flatten_5 (Flatten)          (None, 896)               0         \n",
      "_________________________________________________________________\n",
      "dense_10 (Dense)             (None, 100)               89700     \n",
      "_________________________________________________________________\n",
      "dense_11 (Dense)             (None, 18)                1818      \n",
      "=================================================================\n",
      "Total params: 118,206\n",
      "Trainable params: 117,822\n",
      "Non-trainable params: 384\n",
      "_________________________________________________________________\n"
     ]
    }
   ],
   "source": [
    "model = Sequential()\n",
    "\n",
    "model.add(Conv1D(filters=filters, kernel_size=kernel_size, activation='linear', \n",
    "                 input_shape=(window_size, n_features)))\n",
    "model.add(BatchNormalization())\n",
    "model.add(Activation(activation))\n",
    "\n",
    "model.add(Conv1D(filters=filters, kernel_size=kernel_size, activation='linear'))\n",
    "model.add(BatchNormalization())\n",
    "model.add(Activation(activation))\n",
    "\n",
    "model.add(Conv1D(filters=filters, kernel_size=kernel_size, activation='linear'))\n",
    "model.add(BatchNormalization())\n",
    "model.add(Activation(activation))\n",
    "\n",
    "model.add(Flatten())\n",
    "model.add(Dense(100, activation='relu'))\n",
    "model.add(Dense(n_classes, activation='softmax'))\n",
    "\n",
    "model.summary()"
   ]
  },
  {
   "cell_type": "markdown",
   "id": "2040a9bc",
   "metadata": {},
   "source": [
    "## Training the model"
   ]
  },
  {
   "cell_type": "code",
   "execution_count": 77,
   "id": "94b4e83c",
   "metadata": {},
   "outputs": [],
   "source": [
    "model.compile(\n",
    "    optimizer=optimizers.Adam(lr=0.001),\n",
    "    loss='categorical_crossentropy',\n",
    "    metrics = ['accuracy'])"
   ]
  },
  {
   "cell_type": "code",
   "execution_count": 78,
   "id": "583edb5a",
   "metadata": {},
   "outputs": [
    {
     "name": "stdout",
     "output_type": "stream",
     "text": [
      "Train on 22832 samples\n",
      "Epoch 1/10\n",
      "22832/22832 [==============================] - 5s 207us/sample - loss: 1.5418 - accuracy: 0.4758\n",
      "Epoch 2/10\n",
      "22832/22832 [==============================] - 4s 169us/sample - loss: 1.0588 - accuracy: 0.6240 - loss: 1.1189 -  - ETA - ETA: 1s - loss: 1.0894 - accu - ETA: 1s - loss: 1.0833 - accuracy - E\n",
      "Epoch 3/10\n",
      "22832/22832 [==============================] - 4s 180us/sample - loss: 0.9304 - accuracy: 0.6639\n",
      "Epoch 4/10\n",
      "22832/22832 [==============================] - 3s 146us/sample - loss: 0.8591 - accuracy: 0.6914\n",
      "Epoch 5/10\n",
      "22832/22832 [==============================] - 4s 173us/sample - loss: 0.8001 - accuracy: 0.7081\n",
      "Epoch 6/10\n",
      "22832/22832 [==============================] - 4s 167us/sample - loss: 0.7533 - accuracy: 0.7260: 0s - loss: 0\n",
      "Epoch 7/10\n",
      "22832/22832 [==============================] - 4s 166us/sample - loss: 0.7151 - accuracy: 0.7359\n",
      "Epoch 8/10\n",
      "22832/22832 [==============================] - 4s 171us/sample - loss: 0.6772 - accuracy: 0.7519 - loss: 0.6765 - accuracy: 0.75 - ETA\n",
      "Epoch 9/10\n",
      "22832/22832 [==============================] - 4s 157us/sample - loss: 0.6317 - accuracy: 0.7669 - loss: 0.634\n",
      "Epoch 10/10\n",
      "22832/22832 [==============================] - 4s 154us/sample - loss: 0.6116 - accuracy: 0.7682\n"
     ]
    },
    {
     "data": {
      "text/plain": [
       "<tensorflow.python.keras.callbacks.History at 0x13168d65488>"
      ]
     },
     "execution_count": 78,
     "metadata": {},
     "output_type": "execute_result"
    }
   ],
   "source": [
    "model.fit(X_train, y_train, batch_size=100, epochs=10)"
   ]
  },
  {
   "cell_type": "markdown",
   "id": "a0e2f266",
   "metadata": {},
   "source": [
    "## Testing the model"
   ]
  },
  {
   "cell_type": "code",
   "execution_count": 79,
   "id": "7d59e744",
   "metadata": {},
   "outputs": [],
   "source": [
    "# stats\n",
    "y_pred_ohe = model.predict(X_test)\n",
    "y_pred_labels = np.argmax(y_pred_ohe, axis=1)\n",
    "y_true_labels = np.argmax(y_test, axis=1)"
   ]
  },
  {
   "cell_type": "code",
   "execution_count": 80,
   "id": "7dc4f54f",
   "metadata": {},
   "outputs": [
    {
     "name": "stdout",
     "output_type": "stream",
     "text": [
      "********************************************************************************\n",
      "Classification report\n",
      "********************************************************************************\n",
      "              precision    recall  f1-score   support\n",
      "\n",
      "           0       0.48      0.31      0.38       373\n",
      "           1       0.50      0.62      0.55       372\n",
      "           2       0.52      0.49      0.51       371\n",
      "           3       0.39      0.78      0.52       374\n",
      "           4       0.80      0.79      0.80       373\n",
      "           5       0.63      0.70      0.66       372\n",
      "           6       0.70      0.70      0.70       372\n",
      "           7       0.65      0.60      0.62       374\n",
      "           8       0.56      0.31      0.40       338\n",
      "           9       0.86      0.81      0.83       339\n",
      "          10       0.44      0.50      0.47       372\n",
      "          11       0.36      0.48      0.41       366\n",
      "          12       0.46      0.19      0.27       375\n",
      "          13       0.46      0.54      0.50       377\n",
      "          14       0.50      0.51      0.51       257\n",
      "          15       0.52      0.40      0.45       262\n",
      "          16       0.69      0.35      0.47       247\n",
      "          17       0.50      0.49      0.50       253\n",
      "\n",
      "    accuracy                           0.54      6167\n",
      "   macro avg       0.56      0.53      0.53      6167\n",
      "weighted avg       0.55      0.54      0.53      6167\n",
      "\n"
     ]
    }
   ],
   "source": [
    "print(\"*\" * 80)\n",
    "print(\"Classification report\")\n",
    "print(\"*\" * 80)\n",
    "print(classification_report(y_true_labels, y_pred_labels))"
   ]
  },
  {
   "cell_type": "code",
   "execution_count": 99,
   "id": "f49b5862",
   "metadata": {},
   "outputs": [],
   "source": [
    "confusion_matrix = tf.math.confusion_matrix(\n",
    "    y_true_labels, y_pred_labels, num_classes=None, weights=None, dtype=tf.dtypes.int32,\n",
    "    name=None\n",
    ")"
   ]
  },
  {
   "cell_type": "code",
   "execution_count": 101,
   "id": "698af903",
   "metadata": {},
   "outputs": [
    {
     "data": {
      "text/plain": [
       "<AxesSubplot:>"
      ]
     },
     "execution_count": 101,
     "metadata": {},
     "output_type": "execute_result"
    },
    {
     "data": {
      "image/png": "[encoded data removed]",
      "text/plain": [
       "<Figure size 432x288 with 2 Axes>"
      ]
     },
     "metadata": {
      "needs_background": "light"
     },
     "output_type": "display_data"
    }
   ],
   "source": [
    "import seaborn as sns\n",
    "sns.heatmap(confusion_matrix, annot=True, xticklabels=class_labels.keys(), yticklabels=class_labels.keys())"
   ]
  },
  {
   "cell_type": "markdown",
   "id": "c17abf43",
   "metadata": {},
   "source": [
    "### Save a test intance"
   ]
  },
  {
   "cell_type": "code",
   "execution_count": 33,
   "id": "2e22af1f",
   "metadata": {},
   "outputs": [],
   "source": [
    "for i in range(5):\n",
    "    np.savetxt('data/test_instance' + str(i) + '.txt', X_test[i])"
   ]
  },
  {
   "cell_type": "code",
   "execution_count": 34,
   "id": "4e3e8a50",
   "metadata": {},
   "outputs": [
    {
     "name": "stdout",
     "output_type": "stream",
     "text": [
      "[0. 1.]\n",
      "[0. 1.]\n",
      "[0. 1.]\n",
      "[0. 1.]\n",
      "[0. 1.]\n"
     ]
    }
   ],
   "source": [
    "for i in np.arange(15,20):\n",
    "    print(y_test[i])\n",
    "    np.savetxt('data/test_instance' + str(i) + '.txt', X_test[i])"
   ]
  },
  {
   "cell_type": "markdown",
   "id": "06e32c61",
   "metadata": {},
   "source": [
    "## Save to file and convert to tflite"
   ]
  },
  {
   "cell_type": "code",
   "execution_count": 25,
   "id": "6296f1d0",
   "metadata": {},
   "outputs": [
    {
     "name": "stdout",
     "output_type": "stream",
     "text": [
      "WARNING:tensorflow:From C:\\Users\\Gwenyth\\miniconda3\\envs\\pdiot\\lib\\site-packages\\tensorflow_core\\python\\ops\\resource_variable_ops.py:1781: calling BaseResourceVariable.__init__ (from tensorflow.python.ops.resource_variable_ops) with constraint is deprecated and will be removed in a future version.\n",
      "Instructions for updating:\n",
      "If using Keras pass *_constraint arguments to layers.\n",
      "INFO:tensorflow:Assets written to: models\\cnn_walking_standing\\assets\n"
     ]
    },
    {
     "data": {
      "text/plain": [
       "1234796"
      ]
     },
     "execution_count": 25,
     "metadata": {},
     "output_type": "execute_result"
    }
   ],
   "source": [
    "# Saving the model to file\n",
    "model_name = 'cnn_lyingback_running'\n",
    "\n",
    "export_dir = 'models\\' + model_name\n",
    "tf.saved_model.save(model,export_dir)\n",
    "\n",
    "# Convert the saved tensorflow model to tensorflow lite\n",
    "converter = tf.lite.TFLiteConverter.from_saved_model(export_dir)\n",
    "tflite_model = converter.convert()\n",
    "\n",
    "# Save the tensorflow lite model to file\n",
    "import pathlib\n",
    "tflite_model_file = pathlib.Path('models/' + model_name + '.tflite')\n",
    "tflite_model_file.write_bytes(tflite_model)"
   ]
  },
  {
   "cell_type": "code",
   "execution_count": null,
   "id": "05e36fa4",
   "metadata": {},
   "outputs": [],
   "source": []
  },
  {
   "cell_type": "code",
   "execution_count": null,
   "id": "2ae54ca5",
   "metadata": {},
   "outputs": [],
   "source": []
  },
  {
   "cell_type": "code",
   "execution_count": null,
   "id": "3f5cb93a",
   "metadata": {},
   "outputs": [],
   "source": []
  },
  {
   "cell_type": "code",
   "execution_count": null,
   "id": "4dbe7f01",
   "metadata": {},
   "outputs": [],
   "source": []
  },
  {
   "cell_type": "code",
   "execution_count": null,
   "id": "56a2bf66",
   "metadata": {},
   "outputs": [],
   "source": []
  }
 ],
 "metadata": {
  "kernelspec": {
   "display_name": "Python 3 (ipykernel)",
   "language": "python",
   "name": "python3"
  },
  "language_info": {
   "codemirror_mode": {
    "name": "ipython",
    "version": 3
   },
   "file_extension": ".py",
   "mimetype": "text/x-python",
   "name": "python",
   "nbconvert_exporter": "python",
   "pygments_lexer": "ipython3",
   "version": "3.7.10"
  }
 },
 "nbformat": 4,
 "nbformat_minor": 5
}
